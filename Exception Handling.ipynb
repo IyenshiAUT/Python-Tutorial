{
 "cells": [
  {
   "cell_type": "markdown",
   "metadata": {},
   "source": [
    "# Module: Exception Handling Assignments\n",
    "## Lesson: Exception Handling with try, except, and finally\n",
    "### Assignment 1: Handling Division by Zero\n",
    "\n",
    "Write a function that takes two integers as input and returns their division. Use try, except, and finally blocks to handle division by zero and print an appropriate message.\n",
    "\n",
    "### Assignment 2: File Reading with Exception Handling\n",
    "\n",
    "Write a function that reads the contents of a file named `data.txt`. Use try, except, and finally blocks to handle file not found errors and ensure the file is properly closed.\n",
    "\n",
    "### Assignment 3: Handling Multiple Exceptions\n",
    "\n",
    "Write a function that takes a list of integers and returns their sum. Use try, except, and finally blocks to handle TypeError if a non-integer value is encountered and print an appropriate message.\n",
    "\n",
    "### Assignment 4: Exception Handling in User Input\n",
    "\n",
    "Write a function that prompts the user to enter an integer. Use try, except, and finally blocks to handle ValueError if the user enters a non-integer value and print an appropriate message.\n",
    "\n",
    "### Assignment 5: Exception Handling in Dictionary Access\n",
    "\n",
    "Write a function that takes a dictionary and a key as input and returns the value associated with the key. Use try, except, and finally blocks to handle KeyError if the key is not found in the dictionary and print an appropriate message.\n",
    "\n",
    "### Assignment 6: Nested Exception Handling\n",
    "\n",
    "Write a function that performs nested exception handling. It should first attempt to convert a string to an integer, and then attempt to divide by that integer. Use nested try, except, and finally blocks to handle ValueError and ZeroDivisionError and print appropriate messages.\n",
    "\n",
    "### Assignment 7: Exception Handling in List Operations\n",
    "\n",
    "Write a function that takes a list and an index as input and returns the element at the given index. Use try, except, and finally blocks to handle IndexError if the index is out of range and print an appropriate message.\n",
    "\n",
    "### Assignment 8: Exception Handling in Network Operations\n",
    "\n",
    "Write a function that attempts to open a URL and read its contents. Use try, except, and finally blocks to handle network-related errors and print an appropriate message.\n",
    "\n",
    "### Assignment 9: Exception Handling in JSON Parsing\n",
    "\n",
    "Write a function that attempts to parse a JSON string. Use try, except, and finally blocks to handle JSONDecodeError if the string is not a valid JSON and print an appropriate message.\n",
    "\n",
    "### Assignment 10: Custom Exception Handling\n",
    "\n",
    "Define a custom exception named `NegativeNumberError`. Write a function that raises this exception if a negative number is encountered in a list. Use try, except, and finally blocks to handle the custom exception and print an appropriate message.\n",
    "\n",
    "### Assignment 11: Exception Handling in Function Calls\n",
    "\n",
    "Write a function that calls another function which may raise an exception. Use try, except, and finally blocks to handle the exception and print an appropriate message.\n",
    "\n",
    "### Assignment 12: Exception Handling in Class Methods\n",
    "\n",
    "Define a class with a method that performs a division operation. Use try, except, and finally blocks within the method to handle division by zero and print an appropriate message.\n",
    "\n",
    "### Assignment 13: Exception Handling in Data Conversion\n",
    "\n",
    "Write a function that takes a list of strings and converts them to integers. Use try, except, and finally blocks to handle ValueError if a string cannot be converted and print an appropriate message.\n",
    "\n",
    "### Assignment 14: Exception Handling in List Comprehensions\n",
    "\n",
    "Write a function that uses a list comprehension to convert a list of strings to integers. Use try, except, and finally blocks within the list comprehension to handle ValueError and print an appropriate message.\n",
    "\n",
    "### Assignment 15: Exception Handling in File Writing\n",
    "\n",
    "Write a function that attempts to write a list of strings to a file. Use try, except, and finally blocks to handle IOError and ensure the file is properly closed."
   ]
  },
  {
   "cell_type": "markdown",
   "id": "f4c03a91",
   "metadata": {},
   "source": [
    "#### Assignment 1"
   ]
  },
  {
   "cell_type": "code",
   "execution_count": 1,
   "metadata": {},
   "outputs": [
    {
     "name": "stdout",
     "output_type": "stream",
     "text": [
      "0.8\n",
      "0.0\n",
      "Error occured:  division by zero\n",
      "None\n"
     ]
    }
   ],
   "source": [
    "def divide(num1, num2):\n",
    "    try:\n",
    "        result = num1/num2\n",
    "    except ZeroDivisionError as err:\n",
    "        print(\"Error occured: \", err)\n",
    "        result = None\n",
    "    finally:\n",
    "        return result\n",
    "    \n",
    "print(divide(4, 5))\n",
    "print(divide(0, 9))\n",
    "print(divide(5, 0))"
   ]
  },
  {
   "cell_type": "markdown",
   "id": "d78b676c",
   "metadata": {},
   "source": [
    "#### Assignment 2"
   ]
  },
  {
   "cell_type": "code",
   "execution_count": 2,
   "id": "44e7095e",
   "metadata": {},
   "outputs": [
    {
     "name": "stdout",
     "output_type": "stream",
     "text": [
      "Error occured [Errno 2] No such file or directory: 'hello.txt'\n"
     ]
    }
   ],
   "source": [
    "def read_file(file):\n",
    "    try:\n",
    "        with open(file, 'r') as f:\n",
    "            content = f.read()\n",
    "    except FileNotFoundError as err:\n",
    "        print(\"Error occured\", err)\n",
    "    finally:\n",
    "        try:\n",
    "            f.close()\n",
    "        except NameError:\n",
    "            pass\n",
    "        \n",
    "read_file(\"hello.txt\")"
   ]
  },
  {
   "cell_type": "markdown",
   "id": "18e67e1d",
   "metadata": {},
   "source": [
    "#### Assignment 3"
   ]
  },
  {
   "cell_type": "code",
   "execution_count": 4,
   "id": "76bc4219",
   "metadata": {},
   "outputs": [
    {
     "name": "stdout",
     "output_type": "stream",
     "text": [
      "28\n",
      "Error occured in addition : unsupported operand type(s) for +=: 'int' and 'str'\n",
      "None\n"
     ]
    }
   ],
   "source": [
    "def calculate_sum(num_list):\n",
    "    total = 0\n",
    "    try:\n",
    "        for num in num_list:\n",
    "            total += num\n",
    "    except TypeError as err:\n",
    "        print(\"Error occured in addition :\", err)\n",
    "        total = None\n",
    "    finally:\n",
    "        print(total)\n",
    "        \n",
    "calculate_sum((2, 4, 5, 8, 9))\n",
    "calculate_sum((2, 5, 'r', 8, 4))"
   ]
  },
  {
   "cell_type": "markdown",
   "id": "811b387e",
   "metadata": {},
   "source": [
    "#### Assignment 4"
   ]
  },
  {
   "cell_type": "code",
   "execution_count": 7,
   "id": "3fd755ee",
   "metadata": {},
   "outputs": [
    {
     "name": "stdout",
     "output_type": "stream",
     "text": [
      "invalid literal for int() with base 10: \"'9'\"\n",
      "You entered  None\n"
     ]
    }
   ],
   "source": [
    "def input_integer():\n",
    "    try:\n",
    "        integer = int(input(\"Please enter a number : \"))\n",
    "    except ValueError as err:\n",
    "        print(err)\n",
    "        integer = None\n",
    "    finally:\n",
    "        print(\"You entered \", integer)\n",
    "        \n",
    "input_integer()"
   ]
  },
  {
   "cell_type": "markdown",
   "id": "4a19f4f9",
   "metadata": {},
   "source": [
    "#### Assignment 5"
   ]
  },
  {
   "cell_type": "code",
   "execution_count": 8,
   "id": "bfe2fdd3",
   "metadata": {},
   "outputs": [
    {
     "name": "stdout",
     "output_type": "stream",
     "text": [
      "1\n",
      "Error occured when finding the value : 'd'\n",
      "None\n"
     ]
    }
   ],
   "source": [
    "def return_dict_value(dictionary, key):\n",
    "    try:\n",
    "        value = dictionary[key]\n",
    "    except KeyError as err:\n",
    "        print(\"Error occured when finding the value :\", err)\n",
    "        value = None\n",
    "    finally:\n",
    "        print(value)\n",
    "        \n",
    "d = {'a': 1,\n",
    "     'b': 2,\n",
    "     'c': 3}\n",
    "\n",
    "return_dict_value(d, 'a')\n",
    "return_dict_value(d, 'd')"
   ]
  },
  {
   "cell_type": "markdown",
   "id": "a819bf91",
   "metadata": {},
   "source": [
    "#### Assignment 6"
   ]
  },
  {
   "cell_type": "code",
   "execution_count": 14,
   "id": "236efbf1",
   "metadata": {},
   "outputs": [
    {
     "name": "stdout",
     "output_type": "stream",
     "text": [
      "Conversion completed\n",
      "Division completed\n",
      "Process completed 0.0641025641025641\n",
      "invalid literal for int() with base 10: 'abc'\n",
      "Conversion completed\n",
      "Process completed None\n"
     ]
    }
   ],
   "source": [
    "def nested_exception_handling(string):\n",
    "    result = None\n",
    "    try:\n",
    "        try:\n",
    "            num = int(string)\n",
    "        except ValueError as err1:\n",
    "            print(err1)\n",
    "            num = None\n",
    "        finally:\n",
    "            print(\"Conversion completed\")\n",
    "        if num != None:\n",
    "            try:\n",
    "                result = 5 / num\n",
    "            except ZeroDivisionError as err2:\n",
    "                print(err2)\n",
    "            finally:\n",
    "                print(\"Division completed\")\n",
    "    finally:\n",
    "        print(\"Process completed\", result)\n",
    "    \n",
    "nested_exception_handling('78')\n",
    "nested_exception_handling('abc')"
   ]
  },
  {
   "cell_type": "markdown",
   "id": "d1372ec5",
   "metadata": {},
   "source": [
    "#### Assignment 7"
   ]
  },
  {
   "cell_type": "code",
   "execution_count": 16,
   "id": "380575c7",
   "metadata": {},
   "outputs": [
    {
     "name": "stdout",
     "output_type": "stream",
     "text": [
      "2\n",
      "list index out of range\n",
      "None\n"
     ]
    }
   ],
   "source": [
    "def return_list_element(list, index):\n",
    "    try:\n",
    "        element = (list[index])\n",
    "    except IndexError as err:\n",
    "        print(err)\n",
    "        element = None\n",
    "    finally:\n",
    "        print(element)\n",
    "        \n",
    "ls = [2, 6, 7, 2, 5, 7, 8, 9]\n",
    "\n",
    "return_list_element(ls, 3)\n",
    "return_list_element(ls, 10)"
   ]
  },
  {
   "cell_type": "markdown",
   "id": "d83da83f",
   "metadata": {},
   "source": [
    "#### Assignment 8"
   ]
  },
  {
   "cell_type": "code",
   "execution_count": null,
   "id": "4ee7e2bc",
   "metadata": {},
   "outputs": [],
   "source": [
    "import requests\n",
    "\n",
    "def read_url(url):\n",
    "    try:\n",
    "        response = requests.get(url)\n",
    "        response.raise_for_status()\n",
    "        return response.text\n",
    "    except requests.RequestException as e:\n",
    "        print(f\"Network error: {e}\")\n",
    "        return None\n",
    "    finally:\n",
    "        print(\"Execution complete.\")"
   ]
  },
  {
   "cell_type": "markdown",
   "id": "d030faf1",
   "metadata": {},
   "source": [
    "#### Assignment 9"
   ]
  },
  {
   "cell_type": "code",
   "execution_count": 18,
   "id": "bcdc8ad8",
   "metadata": {},
   "outputs": [],
   "source": [
    "import json \n",
    "\n",
    "def return_json(string):\n",
    "    try:\n",
    "        data = json.load(string)\n",
    "    except json.JSONDecodeError as err:\n",
    "        print(err)\n",
    "        data = None\n",
    "    finally:\n",
    "        print(err)"
   ]
  },
  {
   "cell_type": "markdown",
   "id": "e9d9fb54",
   "metadata": {},
   "source": [
    "#### Assignment 10"
   ]
  },
  {
   "cell_type": "code",
   "execution_count": 19,
   "id": "fe859a9c",
   "metadata": {},
   "outputs": [],
   "source": [
    "class NegativeNumberError(Exception):\n",
    "    pass\n",
    "\n",
    "def check_for_negatives(lst):\n",
    "    try:\n",
    "        for num in lst:\n",
    "            if num < 0:\n",
    "                raise NegativeNumberError(f\"Negative number found: {num}\")\n",
    "    except NegativeNumberError as e:\n",
    "        print(f\"Error: {e}\")\n",
    "    finally:\n",
    "        print(\"Execution complete.\")"
   ]
  },
  {
   "cell_type": "markdown",
   "id": "5adbb2cd",
   "metadata": {},
   "source": [
    "#### Assignment 11"
   ]
  },
  {
   "cell_type": "code",
   "execution_count": 20,
   "id": "8b7ff3c5",
   "metadata": {},
   "outputs": [],
   "source": [
    "def risky_function():\n",
    "    raise ValueError(\"An error occurred in risky_function.\")\n",
    "\n",
    "def safe_function():\n",
    "    try:\n",
    "        risky_function()\n",
    "    except ValueError as e:\n",
    "        print(f\"Error: {e}\")\n",
    "    finally:\n",
    "        print(\"Execution complete.\")"
   ]
  },
  {
   "cell_type": "markdown",
   "id": "1f9d9e15",
   "metadata": {},
   "source": [
    "#### Assignment 12"
   ]
  },
  {
   "cell_type": "code",
   "execution_count": 21,
   "id": "770e04dc",
   "metadata": {},
   "outputs": [],
   "source": [
    "class Calculator:\n",
    "    def divide(self, a, b):\n",
    "        try:\n",
    "            result = a / b\n",
    "        except ZeroDivisionError as e:\n",
    "            print(f\"Error: {e}\")\n",
    "            result = None\n",
    "        finally:\n",
    "            print(\"Execution complete.\")\n",
    "        return result"
   ]
  },
  {
   "cell_type": "markdown",
   "id": "a2343227",
   "metadata": {},
   "source": [
    "#### Assignment 13"
   ]
  },
  {
   "cell_type": "code",
   "execution_count": 22,
   "id": "694cc39a",
   "metadata": {},
   "outputs": [],
   "source": [
    "def convert_to_integers(lst):\n",
    "    integers = []\n",
    "    try:\n",
    "        for item in lst:\n",
    "            integers.append(int(item))\n",
    "    except ValueError as e:\n",
    "        print(f\"Error: {e}\")\n",
    "        integers = None\n",
    "    finally:\n",
    "        print(\"Execution complete.\")\n",
    "    return integers"
   ]
  },
  {
   "cell_type": "markdown",
   "id": "c7d36895",
   "metadata": {},
   "source": [
    "#### Assignment 14"
   ]
  },
  {
   "cell_type": "code",
   "execution_count": 23,
   "id": "650c49af",
   "metadata": {},
   "outputs": [],
   "source": [
    "def convert_with_comprehension(lst):\n",
    "    try:\n",
    "        integers = [int(item) for item in lst]\n",
    "    except ValueError as e:\n",
    "        print(f\"Error: {e}\")\n",
    "        integers = None\n",
    "    finally:\n",
    "        print(\"Execution complete.\")\n",
    "    return integers"
   ]
  },
  {
   "cell_type": "markdown",
   "id": "abee6547",
   "metadata": {},
   "source": [
    "#### Assignment 15"
   ]
  },
  {
   "cell_type": "code",
   "execution_count": null,
   "id": "60a39745",
   "metadata": {},
   "outputs": [],
   "source": [
    "def write_strings_to_file(strings, filename):\n",
    "    try:\n",
    "        file = open(filename, 'w')\n",
    "        for string in strings:\n",
    "            file.write(string + '\\n')\n",
    "    except IOError as e:\n",
    "        print(f\"Error: {e}\")\n",
    "    finally:\n",
    "        try:\n",
    "            file.close()\n",
    "        except NameError:\n",
    "            pass"
   ]
  }
 ],
 "metadata": {
  "kernelspec": {
   "display_name": "Python 3",
   "language": "python",
   "name": "python3"
  },
  "language_info": {
   "codemirror_mode": {
    "name": "ipython",
    "version": 3
   },
   "file_extension": ".py",
   "mimetype": "text/x-python",
   "name": "python",
   "nbconvert_exporter": "python",
   "pygments_lexer": "ipython3",
   "version": "3.10.15"
  }
 },
 "nbformat": 4,
 "nbformat_minor": 5
}

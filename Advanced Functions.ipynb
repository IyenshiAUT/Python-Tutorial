{
 "cells": [
  {
   "cell_type": "markdown",
   "metadata": {},
   "source": [
    "# Module 4: Advanced Functions Assignments\n",
    "## Lesson 4.1: Defining Functions\n",
    "### Assignment 1: Fibonacci Sequence with Memoization\n",
    "\n",
    "Define a recursive function to calculate the nth Fibonacci number using memoization. Test the function with different inputs.\n",
    "\n",
    "### Assignment 2: Function with Nested Default Arguments\n",
    "\n",
    "Define a function that takes two arguments, a and b, where b is a dictionary with a default value of an empty dictionary. The function should add a new key-value pair to the dictionary and return it. Test the function with different inputs.\n",
    "\n",
    "### Assignment 3: Function with Variable Keyword Arguments\n",
    "\n",
    "Define a function that takes a variable number of keyword arguments and returns a dictionary containing only those key-value pairs where the value is an integer. Test the function with different inputs.\n",
    "\n",
    "### Assignment 4: Function with Callback\n",
    "\n",
    "Define a function that takes another function as a callback and a list of integers. The function should apply the callback to each integer in the list and return a new list with the results. Test with different callback functions.\n",
    "\n",
    "### Assignment 5: Function that Returns a Function\n",
    "\n",
    "Define a function that returns another function. The returned function should take an integer and return its square. Test the returned function with different inputs.\n",
    "\n",
    "### Assignment 6: Function with Decorators\n",
    "\n",
    "Define a function that calculates the time taken to execute another function. Apply this decorator to a function that performs a complex calculation. Test the decorated function with different inputs.\n",
    "\n",
    "### Assignment 7: Higher-Order Function for Filtering and Mapping\n",
    "\n",
    "Define a higher-order function that takes two functions, a filter function and a map function, along with a list of integers. The higher-order function should first filter the integers using the filter function and then apply the map function to the filtered integers. Test with different filter and map functions.\n",
    "\n",
    "### Assignment 8: Function Composition\n",
    "\n",
    "Define a function that composes two functions, f and g, such that the result is f(g(x)). Test with different functions f and g.\n",
    "\n",
    "### Assignment 9: Partial Function Application\n",
    "\n",
    "Use the functools.partial function to create a new function that multiplies its input by 2. Test the new function with different inputs.\n",
    "\n",
    "### Assignment 10: Function with Error Handling\n",
    "\n",
    "Define a function that takes a list of integers and returns their average. The function should handle any errors that occur (e.g., empty list) and return None in such cases. Test with different inputs.\n",
    "\n",
    "### Assignment 11: Function with Generators\n",
    "\n",
    "Define a function that generates an infinite sequence of Fibonacci numbers. Test by printing the first 10 numbers in the sequence.\n",
    "\n",
    "### Assignment 12: Currying\n",
    "\n",
    "Define a curried function that takes three arguments, one at a time, and returns their product. Test the function by providing arguments one at a time.\n",
    "\n",
    "### Assignment 13: Function with Context Manager\n",
    "\n",
    "Define a function that uses a context manager to write a list of integers to a file. The function should handle any errors that occur during file operations. Test with different lists.\n",
    "\n",
    "### Assignment 14: Function with Multiple Return Types\n",
    "\n",
    "Define a function that takes a list of mixed data types (integers, strings, and floats) and returns three lists: one containing all the integers, one containing all the strings, and one containing all the floats. Test with different inputs.\n",
    "\n",
    "### Assignment 15: Function with State\n",
    "\n",
    "Define a function that maintains state between calls using a mutable default argument. The function should keep track of how many times it has been called. Test by calling the function multiple times."
   ]
  },
  {
   "cell_type": "markdown",
   "id": "4a02b310",
   "metadata": {},
   "source": [
    "#### Assignment 1"
   ]
  },
  {
   "cell_type": "code",
   "execution_count": 8,
   "metadata": {},
   "outputs": [],
   "source": [
    "def fibonacci_num(num, fibonacci_dict={}):\n",
    "    if num in fibonacci_dict:\n",
    "        return fibonacci_dict[num]\n",
    "    if num <=1 :\n",
    "        return num\n",
    "    fibonacci_dict[num] = fibonacci_num(num-1, fibonacci_dict) + fibonacci_num(num-2, fibonacci_dict)\n",
    "    return fibonacci_dict[num]     "
   ]
  },
  {
   "cell_type": "code",
   "execution_count": 9,
   "id": "92abe7e3",
   "metadata": {},
   "outputs": [
    {
     "name": "stdout",
     "output_type": "stream",
     "text": [
      "5\n",
      "1\n",
      "-2\n"
     ]
    }
   ],
   "source": [
    "print(fibonacci_num(5))\n",
    "print(fibonacci_num(1))\n",
    "print(fibonacci_num(-2))"
   ]
  },
  {
   "cell_type": "markdown",
   "id": "25b9a815",
   "metadata": {},
   "source": [
    "#### Assignment 2"
   ]
  },
  {
   "cell_type": "code",
   "execution_count": 10,
   "id": "cb947c03",
   "metadata": {},
   "outputs": [],
   "source": [
    "def modify_dict(num, num_dict=None):\n",
    "    if num_dict == None:\n",
    "        num_dict={}\n",
    "    num_dict[num] = num**2\n",
    "    return num_dict"
   ]
  },
  {
   "cell_type": "code",
   "execution_count": 11,
   "id": "10380980",
   "metadata": {},
   "outputs": [
    {
     "name": "stdout",
     "output_type": "stream",
     "text": [
      "{2: 4}\n",
      "{2: 4, 3: 9}\n"
     ]
    }
   ],
   "source": [
    "print(modify_dict(2))\n",
    "print(modify_dict(3, {2:4}))"
   ]
  },
  {
   "cell_type": "markdown",
   "id": "b61e34fd",
   "metadata": {},
   "source": [
    "#### Assignment 3"
   ]
  },
  {
   "cell_type": "code",
   "execution_count": 12,
   "id": "70d2dd23",
   "metadata": {},
   "outputs": [],
   "source": [
    "def filter_integer_pairs(**num_pairs):\n",
    "    return {key: value for key,value in num_pairs.items() if isinstance(value, int)}"
   ]
  },
  {
   "cell_type": "code",
   "execution_count": 14,
   "id": "2a4a12c4",
   "metadata": {},
   "outputs": [
    {
     "name": "stdout",
     "output_type": "stream",
     "text": [
      "{'a': 2, 'c': True, 'd': 5}\n",
      "{'a': 2, 'b': False, 'd': 5}\n"
     ]
    }
   ],
   "source": [
    "print(filter_integer_pairs(a=2, b='x', c=True, d=5))\n",
    "print(filter_integer_pairs(a=2, b=False, c='hello', d=5))"
   ]
  },
  {
   "cell_type": "markdown",
   "id": "55bf57d2",
   "metadata": {},
   "source": [
    "#### Assignment 4"
   ]
  },
  {
   "cell_type": "code",
   "execution_count": 25,
   "id": "201573a5",
   "metadata": {},
   "outputs": [],
   "source": [
    "def perform_callback( callback, num_list):\n",
    "    return [callback(num) for num in num_list]"
   ]
  },
  {
   "cell_type": "code",
   "execution_count": 26,
   "id": "3c0ff873",
   "metadata": {},
   "outputs": [
    {
     "name": "stdout",
     "output_type": "stream",
     "text": [
      "[-4, -3, -2, -1, 0]\n",
      "[0, 4, 16, 36, 64]\n"
     ]
    }
   ],
   "source": [
    "print(perform_callback(lambda x:x-5 , [1, 2, 3, 4, 5]))\n",
    "print(perform_callback(lambda x:x**2 , [0, 2, 4, 6, 8]))"
   ]
  },
  {
   "cell_type": "markdown",
   "id": "835b8bff",
   "metadata": {},
   "source": [
    "#### Assignment 5"
   ]
  },
  {
   "cell_type": "code",
   "execution_count": 27,
   "id": "c20c6c7f",
   "metadata": {},
   "outputs": [],
   "source": [
    "def outter_function():\n",
    "    def inner_function(num):\n",
    "        return num**2\n",
    "    return inner_function"
   ]
  },
  {
   "cell_type": "code",
   "execution_count": 29,
   "id": "16ac02b0",
   "metadata": {},
   "outputs": [
    {
     "name": "stdout",
     "output_type": "stream",
     "text": [
      "9\n",
      "36\n"
     ]
    }
   ],
   "source": [
    "square = outter_function()\n",
    "\n",
    "print(square(3))\n",
    "print(square(6))"
   ]
  },
  {
   "cell_type": "markdown",
   "id": "88f698ba",
   "metadata": {},
   "source": [
    "#### Assignment 6"
   ]
  },
  {
   "cell_type": "code",
   "execution_count": 30,
   "id": "f32c7469",
   "metadata": {},
   "outputs": [
    {
     "name": "stdout",
     "output_type": "stream",
     "text": [
      "Function complex_calculation took 0.0029993057250976562 seconds to execute.\n",
      "333283335000\n"
     ]
    }
   ],
   "source": [
    "import time\n",
    "\n",
    "def timer_decorator(func):\n",
    "    def wrapper(*args, **kwargs):\n",
    "        start_time = time.time()\n",
    "        result = func(*args, **kwargs)\n",
    "        end_time = time.time()\n",
    "        print(f\"Function {func.__name__} took {end_time - start_time} seconds to execute.\")\n",
    "        return result\n",
    "    return wrapper\n",
    "\n",
    "@timer_decorator\n",
    "def complex_calculation(n):\n",
    "    return sum(x**2 for x in range(n))\n",
    "\n",
    "# Test\n",
    "print(complex_calculation(10000))"
   ]
  },
  {
   "cell_type": "markdown",
   "id": "8f09d04e",
   "metadata": {},
   "source": [
    "#### Assignment 7"
   ]
  },
  {
   "cell_type": "code",
   "execution_count": 31,
   "id": "7e56ac10",
   "metadata": {},
   "outputs": [],
   "source": [
    "def complete_function(filter_func, map_func, lst):\n",
    "    return [map_func(x) for x in lst if filter_func(x)]"
   ]
  },
  {
   "cell_type": "code",
   "execution_count": 33,
   "id": "8c03dc08",
   "metadata": {},
   "outputs": [
    {
     "name": "stdout",
     "output_type": "stream",
     "text": [
      "[0, 16]\n",
      "[0, 81, 1296, 6561]\n"
     ]
    }
   ],
   "source": [
    "print(complete_function(lambda x:x%4 == 0, lambda x:x**2, [0,1,2,3,4]))\n",
    "print(complete_function(lambda x:x%3 == 0, lambda x:x**4, [0,1,2,3,4,5,6,7,8,9]))"
   ]
  },
  {
   "cell_type": "markdown",
   "id": "2f5432f5",
   "metadata": {},
   "source": [
    "#### Assignment 8"
   ]
  },
  {
   "cell_type": "code",
   "execution_count": 36,
   "id": "14b1615c",
   "metadata": {},
   "outputs": [],
   "source": [
    "def multifunction(f, g):\n",
    "    return lambda x:f(g(x))"
   ]
  },
  {
   "cell_type": "code",
   "execution_count": 39,
   "id": "7cfa4a3a",
   "metadata": {},
   "outputs": [
    {
     "name": "stdout",
     "output_type": "stream",
     "text": [
      "50\n"
     ]
    }
   ],
   "source": [
    "result = multifunction(lambda x: x*2, lambda x: x**2, 3 )\n",
    "print(result(5))"
   ]
  },
  {
   "cell_type": "markdown",
   "id": "49bc112e",
   "metadata": {},
   "source": [
    "#### Assignment 9"
   ]
  },
  {
   "cell_type": "code",
   "execution_count": 41,
   "id": "a3dd44c4",
   "metadata": {},
   "outputs": [
    {
     "name": "stdout",
     "output_type": "stream",
     "text": [
      "6\n",
      "10\n"
     ]
    }
   ],
   "source": [
    "from functools import partial\n",
    "\n",
    "multiply_by_2 = partial(lambda x, y: x * y, 2)\n",
    "\n",
    "print(multiply_by_2(3))\n",
    "print(multiply_by_2(5))  "
   ]
  },
  {
   "cell_type": "markdown",
   "id": "cbee75d6",
   "metadata": {},
   "source": [
    "#### Assignment 10"
   ]
  },
  {
   "cell_type": "code",
   "execution_count": 43,
   "id": "f608807a",
   "metadata": {},
   "outputs": [
    {
     "name": "stdout",
     "output_type": "stream",
     "text": [
      "3.0\n",
      "None\n"
     ]
    }
   ],
   "source": [
    "def average(lst):\n",
    "    try:\n",
    "        return sum(lst)/len(lst)\n",
    "    except ZeroDivisionError:\n",
    "        return None\n",
    "\n",
    "print(average([1, 2, 3, 4, 5]))\n",
    "print(average([]))"
   ]
  },
  {
   "cell_type": "markdown",
   "id": "f77dbd4c",
   "metadata": {},
   "source": [
    "#### Assignment 11"
   ]
  },
  {
   "cell_type": "code",
   "execution_count": 42,
   "id": "274c1e84",
   "metadata": {},
   "outputs": [
    {
     "name": "stdout",
     "output_type": "stream",
     "text": [
      "0\n",
      "1\n",
      "1\n",
      "2\n",
      "3\n",
      "5\n",
      "8\n",
      "13\n",
      "21\n",
      "34\n"
     ]
    }
   ],
   "source": [
    "def fibonacci_generator():\n",
    "    a, b = 0, 1\n",
    "    while True:\n",
    "        yield a\n",
    "        a, b = b, a + b\n",
    "\n",
    "# Test\n",
    "fib_gen = fibonacci_generator()\n",
    "for _ in range(10):\n",
    "    print(next(fib_gen))"
   ]
  },
  {
   "cell_type": "markdown",
   "id": "15bf0ec7",
   "metadata": {},
   "source": [
    "#### Assignment 12"
   ]
  },
  {
   "cell_type": "code",
   "execution_count": 44,
   "id": "5eaad06b",
   "metadata": {},
   "outputs": [],
   "source": [
    "def func1(x):\n",
    "    def func2(y):\n",
    "        def func3(z):\n",
    "            return x*y*z\n",
    "        return func3\n",
    "    return func2"
   ]
  },
  {
   "cell_type": "code",
   "execution_count": 45,
   "id": "5bc370bb",
   "metadata": {},
   "outputs": [
    {
     "name": "stdout",
     "output_type": "stream",
     "text": [
      "60\n"
     ]
    }
   ],
   "source": [
    "print(func1(5)(2)(6))"
   ]
  },
  {
   "cell_type": "markdown",
   "id": "b7c763a7",
   "metadata": {},
   "source": [
    "#### Assignment 13"
   ]
  },
  {
   "cell_type": "code",
   "execution_count": 46,
   "id": "e1357472",
   "metadata": {},
   "outputs": [],
   "source": [
    "def write_file(lst, filename):\n",
    "    try:\n",
    "        with open(filename, 'w') as f:\n",
    "            for num in lst:\n",
    "                f.write(f\"{num}\\n\")\n",
    "    except IOError as e:\n",
    "        print(f\"An error: {e}\")\n",
    "\n",
    "write_file([1, 2, 3, 4, 5], 'output.txt')"
   ]
  },
  {
   "cell_type": "markdown",
   "id": "7d63eedb",
   "metadata": {},
   "source": [
    "#### Assignment 14"
   ]
  },
  {
   "cell_type": "code",
   "execution_count": 48,
   "id": "b0478cf9",
   "metadata": {},
   "outputs": [
    {
     "name": "stdout",
     "output_type": "stream",
     "text": [
      "[1, 3, 5]\n",
      "['Age', 'Hello']\n",
      "[3.5, 4.5]\n"
     ]
    }
   ],
   "source": [
    "def seperate(lst):\n",
    "    ints, strs, floats = [], [], []\n",
    "    for item in lst:\n",
    "        if(isinstance(item, int)):\n",
    "            ints.append(item)\n",
    "        elif(isinstance(item, str)):\n",
    "            strs.append(item)\n",
    "        elif(isinstance(item, float)):\n",
    "            floats.append(item)\n",
    "    print(ints)\n",
    "    print(strs)\n",
    "    print(floats)\n",
    "    \n",
    "seperate([1,3,5, 3.5, 'Age', 4.5, 'Hello'])"
   ]
  },
  {
   "cell_type": "markdown",
   "id": "97c64695",
   "metadata": {},
   "source": [
    "#### Assignment 15"
   ]
  },
  {
   "cell_type": "code",
   "execution_count": 49,
   "id": "1a181f77",
   "metadata": {},
   "outputs": [
    {
     "name": "stdout",
     "output_type": "stream",
     "text": [
      "1\n",
      "2\n",
      "3\n"
     ]
    }
   ],
   "source": [
    "def call_counter(counter={'count': 0}):\n",
    "    counter['count'] += 1\n",
    "    return counter['count']\n",
    "\n",
    "print(call_counter())  \n",
    "print(call_counter())  \n",
    "print(call_counter())  "
   ]
  },
  {
   "cell_type": "code",
   "execution_count": null,
   "id": "9dfb12e7",
   "metadata": {},
   "outputs": [],
   "source": []
  }
 ],
 "metadata": {
  "kernelspec": {
   "display_name": "Python 3",
   "language": "python",
   "name": "python3"
  },
  "language_info": {
   "codemirror_mode": {
    "name": "ipython",
    "version": 3
   },
   "file_extension": ".py",
   "mimetype": "text/x-python",
   "name": "python",
   "nbconvert_exporter": "python",
   "pygments_lexer": "ipython3",
   "version": "3.10.15"
  }
 },
 "nbformat": 4,
 "nbformat_minor": 5
}

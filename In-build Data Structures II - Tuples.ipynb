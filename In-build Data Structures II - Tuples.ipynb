{
 "cells": [
  {
   "cell_type": "markdown",
   "id": "6cade624",
   "metadata": {},
   "source": [
    "# Module 3: Data Structures Assignments\n",
    "## Lesson 3.2: Tuples\n",
    "### Assignment 1: Creating and Accessing Tuples\n",
    "\n",
    "Create a tuple with the first 10 positive integers. Print the tuple.\n",
    "\n",
    "### Assignment 2: Accessing Tuple Elements\n",
    "\n",
    "Print the first, middle, and last elements of the tuple created in Assignment 1.\n",
    "\n",
    "### Assignment 3: Tuple Slicing\n",
    "\n",
    "Print the first three elements, the last three elements, and the elements from index 2 to 5 of the tuple created in Assignment 1.\n",
    "\n",
    "### Assignment 4: Nested Tuples\n",
    "\n",
    "Create a nested tuple representing a 3x3 matrix and print the matrix. Access and print the element at the second row and third column.\n",
    "\n",
    "### Assignment 5: Tuple Concatenation\n",
    "\n",
    "Concatenate two tuples: (1, 2, 3) and (4, 5, 6). Print the resulting tuple.\n",
    "\n",
    "### Assignment 6: Tuple Methods\n",
    "\n",
    "Create a tuple with duplicate elements and count the occurrences of an element. Find the index of the first occurrence of an element in the tuple.\n",
    "\n",
    "### Assignment 7: Unpacking Tuples\n",
    "\n",
    "Create a tuple with 5 elements and unpack it into 5 variables. Print the variables.\n",
    "\n",
    "### Assignment 8: Tuple Conversion\n",
    "\n",
    "Convert a list of the first 5 positive integers to a tuple. Print the tuple.\n",
    "\n",
    "### Assignment 9: Tuple of Tuples\n",
    "\n",
    "Create a tuple containing 3 tuples, each with 3 elements. Print the tuple of tuples.\n",
    "\n",
    "### Assignment 10: Tuple and List\n",
    "\n",
    "Create a tuple with the first 5 positive integers. Convert it to a list, append the number 6, and convert it back to a tuple. Print the resulting tuple.\n",
    "\n",
    "### Assignment 11: Tuple and String\n",
    "\n",
    "Create a tuple with the characters of a string. Join the tuple elements into a single string. Print the string.\n",
    "\n",
    "### Assignment 12: Tuple and Dictionary\n",
    "\n",
    "Create a dictionary with tuple keys and integer values. Print the dictionary.\n",
    "\n",
    "### Assignment 13: Nested Tuple Iteration\n",
    "\n",
    "Create a nested tuple and iterate over the elements, printing each element.\n",
    "\n",
    "### Assignment 14: Tuple and Set\n",
    "\n",
    "Create a tuple with duplicate elements. Convert it to a set to remove duplicates and print the resulting set.\n",
    "\n",
    "### Assignment 15: Tuple Functions\n",
    "\n",
    "Write functions that take a tuple and return the minimum, maximum, and sum of the elements. Print the results for a sample tuple."
   ]
  },
  {
   "cell_type": "markdown",
   "id": "249dee42",
   "metadata": {},
   "source": [
    "#### Assignment 1"
   ]
  },
  {
   "cell_type": "code",
   "execution_count": 1,
   "metadata": {},
   "outputs": [
    {
     "name": "stdout",
     "output_type": "stream",
     "text": [
      "(1, 2, 3, 4, 5, 6, 7, 8, 9, 10)\n"
     ]
    }
   ],
   "source": [
    "tpl = tuple(range(1,11))\n",
    "print(tpl)"
   ]
  },
  {
   "cell_type": "markdown",
   "id": "7f338be0",
   "metadata": {},
   "source": [
    "#### Assignment 2"
   ]
  },
  {
   "cell_type": "code",
   "execution_count": 5,
   "id": "56f92e92",
   "metadata": {},
   "outputs": [
    {
     "name": "stdout",
     "output_type": "stream",
     "text": [
      "1\n",
      "(1, 2, 3, 4, 5)\n",
      "10\n"
     ]
    }
   ],
   "source": [
    "print(tpl[0])\n",
    "print(tpl[:len(tpl)//2])\n",
    "print(tpl[len(tpl)-1])"
   ]
  },
  {
   "cell_type": "markdown",
   "id": "4d2a4ffa",
   "metadata": {},
   "source": [
    "#### Assignment 3"
   ]
  },
  {
   "cell_type": "code",
   "execution_count": 8,
   "id": "06ab9ed5",
   "metadata": {},
   "outputs": [
    {
     "name": "stdout",
     "output_type": "stream",
     "text": [
      "(1, 2, 3)\n",
      "(8, 9, 10)\n",
      "(3, 4, 5, 6)\n"
     ]
    }
   ],
   "source": [
    "print(tpl[:3])\n",
    "print(tpl[-3:])\n",
    "print(tpl[2:6])"
   ]
  },
  {
   "cell_type": "markdown",
   "id": "7f329ab4",
   "metadata": {},
   "source": [
    "#### Assignment 4"
   ]
  },
  {
   "cell_type": "code",
   "execution_count": 9,
   "id": "71472b0f",
   "metadata": {},
   "outputs": [
    {
     "name": "stdout",
     "output_type": "stream",
     "text": [
      "((1, 2, 3), (4, 5, 6), (7, 8, 9))\n",
      "6\n"
     ]
    }
   ],
   "source": [
    "matrix = (\n",
    "    (1, 2, 3),\n",
    "    (4, 5, 6),\n",
    "    (7, 8, 9)\n",
    ")\n",
    "print(matrix)\n",
    "print(matrix[1][2])"
   ]
  },
  {
   "cell_type": "markdown",
   "id": "9a566b9d",
   "metadata": {},
   "source": [
    "#### Assignment 5"
   ]
  },
  {
   "cell_type": "code",
   "execution_count": 10,
   "id": "a63fbd05",
   "metadata": {},
   "outputs": [
    {
     "name": "stdout",
     "output_type": "stream",
     "text": [
      "(1, 2, 3, 4, 5, 6)\n"
     ]
    }
   ],
   "source": [
    "tpl1 = (1, 2, 3)\n",
    "tpl2 = (4, 5, 6)\n",
    "concat = tpl1 + tpl2\n",
    "print(concat)"
   ]
  },
  {
   "cell_type": "markdown",
   "id": "8139a53d",
   "metadata": {},
   "source": [
    "#### Assignment 6"
   ]
  },
  {
   "cell_type": "code",
   "execution_count": 13,
   "id": "923a76fc",
   "metadata": {},
   "outputs": [
    {
     "name": "stdout",
     "output_type": "stream",
     "text": [
      "2\n",
      "1\n"
     ]
    }
   ],
   "source": [
    "a = (1, 2, 3, 3, 4, 2, 6, 6, 8)\n",
    "print(a.count(2))\n",
    "print(a.index(2))"
   ]
  },
  {
   "cell_type": "markdown",
   "id": "df08fe40",
   "metadata": {},
   "source": [
    "#### Assignment 7"
   ]
  },
  {
   "cell_type": "code",
   "execution_count": 14,
   "id": "67748bad",
   "metadata": {},
   "outputs": [
    {
     "name": "stdout",
     "output_type": "stream",
     "text": [
      "1 2 3 4 5\n"
     ]
    }
   ],
   "source": [
    "tpl = (1, 2, 3, 4, 5)\n",
    "a, b, c, d, e = tpl\n",
    "print(a, b, c, d, e)"
   ]
  },
  {
   "cell_type": "markdown",
   "id": "b9b74bdb",
   "metadata": {},
   "source": [
    "#### Assignment 8"
   ]
  },
  {
   "cell_type": "code",
   "execution_count": 16,
   "id": "bacdac2e",
   "metadata": {},
   "outputs": [
    {
     "name": "stdout",
     "output_type": "stream",
     "text": [
      "[1, 2, 3, 4, 5]\n",
      "(1, 2, 3, 4, 5)\n"
     ]
    }
   ],
   "source": [
    "lst = list(range(1,6))\n",
    "print(lst)\n",
    "tpl = tuple(lst)\n",
    "print(tpl)"
   ]
  },
  {
   "cell_type": "markdown",
   "id": "a1120e40",
   "metadata": {},
   "source": [
    "#### Assignment 9"
   ]
  },
  {
   "cell_type": "code",
   "execution_count": 15,
   "id": "00e5ec72",
   "metadata": {},
   "outputs": [
    {
     "name": "stdout",
     "output_type": "stream",
     "text": [
      "((1, 2, 3), (4, 5, 6), (7, 8, 9))\n"
     ]
    }
   ],
   "source": [
    "tpl_tpl = (\n",
    "    (1, 2, 3),\n",
    "    (4, 5, 6),\n",
    "    (7, 8, 9)\n",
    ")\n",
    "print(tpl_tpl)"
   ]
  },
  {
   "cell_type": "markdown",
   "id": "a98986b6",
   "metadata": {},
   "source": [
    "#### Assignment 10"
   ]
  },
  {
   "cell_type": "code",
   "execution_count": 18,
   "id": "35f7a61c",
   "metadata": {},
   "outputs": [
    {
     "name": "stdout",
     "output_type": "stream",
     "text": [
      "(1, 2, 3, 4, 5)\n",
      "(1, 2, 3, 4, 5, 6)\n"
     ]
    }
   ],
   "source": [
    "tpl = tuple(range(1, 6))\n",
    "print(tpl)\n",
    "lst = list(tpl)\n",
    "lst.append(6)\n",
    "print(tuple(lst))"
   ]
  },
  {
   "cell_type": "markdown",
   "id": "9ca33221",
   "metadata": {},
   "source": [
    "#### Assignment 11"
   ]
  },
  {
   "cell_type": "code",
   "execution_count": 20,
   "id": "185853f6",
   "metadata": {},
   "outputs": [
    {
     "name": "stdout",
     "output_type": "stream",
     "text": [
      "('T', 'a', 'n', 'e', 'e', 's', 'h', 'a')\n",
      "Taneesha\n"
     ]
    }
   ],
   "source": [
    "string = \"Taneesha\"\n",
    "str_tuple = tuple(string)\n",
    "print(str_tuple)\n",
    "single_str = \"\".join(str_tuple)\n",
    "print(single_str)"
   ]
  },
  {
   "cell_type": "markdown",
   "id": "6f27401c",
   "metadata": {},
   "source": [
    "#### Assignment 12"
   ]
  },
  {
   "cell_type": "code",
   "execution_count": 21,
   "id": "88a36a3f",
   "metadata": {},
   "outputs": [
    {
     "name": "stdout",
     "output_type": "stream",
     "text": [
      "{(1, 2): 10, (2, 3): 20, (3, 4): 30}\n"
     ]
    }
   ],
   "source": [
    "dict_1 = {\n",
    "    (1, 2): 10,\n",
    "    (2, 3): 20,\n",
    "    (3, 4): 30\n",
    "}\n",
    "print(dict_1)"
   ]
  },
  {
   "cell_type": "markdown",
   "id": "2e1b5d8c",
   "metadata": {},
   "source": [
    "#### Assignment 13"
   ]
  },
  {
   "cell_type": "code",
   "execution_count": 23,
   "id": "9091a320",
   "metadata": {},
   "outputs": [
    {
     "name": "stdout",
     "output_type": "stream",
     "text": [
      "1 2 3 \n",
      "4 5 6 \n",
      "7 8 9 \n"
     ]
    }
   ],
   "source": [
    "nested_tpl = (\n",
    "    (1, 2, 3),\n",
    "    (4, 5, 6),\n",
    "    (7, 8, 9)\n",
    ")\n",
    "\n",
    "for row in nested_tpl:\n",
    "    for element in row:\n",
    "        print(element, end=\" \")\n",
    "    print(\"\")"
   ]
  },
  {
   "cell_type": "markdown",
   "id": "e03eabf0",
   "metadata": {},
   "source": [
    "#### Assignment 14"
   ]
  },
  {
   "cell_type": "code",
   "execution_count": 24,
   "id": "314c8e65",
   "metadata": {},
   "outputs": [
    {
     "name": "stdout",
     "output_type": "stream",
     "text": [
      "(1, 3, 5, 6, 3, 5, 6, 4)\n",
      "{1, 3, 4, 5, 6}\n"
     ]
    }
   ],
   "source": [
    "tpl = (1, 3, 5, 6, 3, 5, 6, 4)\n",
    "print(tpl)\n",
    "st = set(tpl)\n",
    "print(st)"
   ]
  },
  {
   "cell_type": "markdown",
   "id": "85340bd7",
   "metadata": {},
   "source": [
    "#### Assignment 15"
   ]
  },
  {
   "cell_type": "code",
   "execution_count": 25,
   "id": "9cc914f0",
   "metadata": {},
   "outputs": [
    {
     "name": "stdout",
     "output_type": "stream",
     "text": [
      "5\n",
      "1\n",
      "15\n"
     ]
    }
   ],
   "source": [
    "def maximum(tpl):\n",
    "    return max(tpl)\n",
    "\n",
    "def minimum(tpl):\n",
    "    return min(tpl)\n",
    "\n",
    "def summation(tpl):\n",
    "    return sum(tpl)\n",
    "\n",
    "tpl1 = (1, 2, 3, 4, 5)\n",
    "print(maximum(tpl1))\n",
    "print(minimum(tpl1))\n",
    "print(summation(tpl1))"
   ]
  }
 ],
 "metadata": {
  "kernelspec": {
   "display_name": "Python 3",
   "language": "python",
   "name": "python3"
  },
  "language_info": {
   "codemirror_mode": {
    "name": "ipython",
    "version": 3
   },
   "file_extension": ".py",
   "mimetype": "text/x-python",
   "name": "python",
   "nbconvert_exporter": "python",
   "pygments_lexer": "ipython3",
   "version": "3.10.15"
  }
 },
 "nbformat": 4,
 "nbformat_minor": 5
}

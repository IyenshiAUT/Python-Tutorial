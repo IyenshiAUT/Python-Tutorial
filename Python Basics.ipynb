{
  "cells": [
    {
      "cell_type": "markdown",
      "metadata": {
        "id": "ElF3QiuitMIL"
      },
      "source": [
        "# Lesson 1.2: Python Basics\n",
        "## Topics Covered:\n",
        "- Syntax and Semantics\n",
        "- Variables and Data Types\n",
        "- Basic Operators (Arithmetic, Comparison, Logical)\n"
      ]
    },
    {
      "cell_type": "markdown",
      "metadata": {
        "id": "TbF1ExKKtMIQ"
      },
      "source": [
        "## 1. Syntax and Semantics\n",
        "\n",
        "**Question 1:** Write a Python program to print \"Hello, World!\"."
      ]
    },
    {
      "cell_type": "code",
      "metadata": {
        "colab": {
          "base_uri": "https://localhost:8080/"
        },
        "id": "u72Unxx3tMIR",
        "outputId": "e1a39cf9-a16b-4013-b0eb-98dbab713c88"
      },
      "outputs": [
        {
          "output_type": "stream",
          "name": "stdout",
          "text": [
            "Hello, World!\n"
          ]
        }
      ],
      "source": [
        "# Your code here\n",
        "print(\"Hello, World!\")"
      ],
      "execution_count": null
    },
    {
      "cell_type": "markdown",
      "metadata": {
        "id": "SzoYdlP2tMIV"
      },
      "source": [
        "**Question 2:** Write a Python program that takes a user input and prints it."
      ]
    },
    {
      "cell_type": "code",
      "metadata": {
        "colab": {
          "base_uri": "https://localhost:8080/"
        },
        "id": "phRzO0iStMIV",
        "outputId": "bda6544b-8085-4eb4-cd62-7a2a8d93da50"
      },
      "outputs": [
        {
          "output_type": "stream",
          "name": "stdout",
          "text": [
            "Enter a message: Hello\n",
            "You entered: Hello\n"
          ]
        }
      ],
      "source": [
        "# Your code here\n",
        "user_input = input(\"Enter a message: \")\n",
        "print(\"You entered:\", user_input)"
      ],
      "execution_count": null
    },
    {
      "cell_type": "markdown",
      "metadata": {
        "id": "9uzmZPbetMIW"
      },
      "source": [
        "**Question 3:** Write a Python program to check if a number is positive, negative, or zero."
      ]
    },
    {
      "cell_type": "code",
      "metadata": {
        "colab": {
          "base_uri": "https://localhost:8080/"
        },
        "id": "Z1WZnKmetMIW",
        "outputId": "b5d16799-3810-4213-cd24-5f0a4343fdad"
      },
      "outputs": [
        {
          "output_type": "stream",
          "name": "stdout",
          "text": [
            "Enter a message: -45\n",
            "The number is negative.\n"
          ]
        }
      ],
      "source": [
        "# Your code here\n",
        "user_input = input(\"Enter a message: \")\n",
        "num = int(user_input)\n",
        "if num > 0:\n",
        "  print(\"The number is positive.\")\n",
        "elif num < 0:\n",
        "  print(\"The number is negative.\")\n",
        "else:\n",
        "  print(\"The number is zero.\")"
      ],
      "execution_count": null
    },
    {
      "cell_type": "markdown",
      "metadata": {
        "id": "Hj5cKM9EtMIW"
      },
      "source": [
        "**Question 4:** Write a Python program to find the largest of three numbers."
      ]
    },
    {
      "cell_type": "code",
      "metadata": {
        "colab": {
          "base_uri": "https://localhost:8080/"
        },
        "id": "IGlOknSztMIX",
        "outputId": "98600f61-8dda-4ff0-d730-dd60acf8d806"
      },
      "outputs": [
        {
          "output_type": "stream",
          "name": "stdout",
          "text": [
            "Enter the first number: 34\n",
            "Enter the second number: 45\n",
            "Enter the third number: 09\n",
            "The largest number is: 45.0\n"
          ]
        }
      ],
      "source": [
        "# Your code here\n",
        "user_input_1 = float(input(\"Enter the first number: \"))\n",
        "user_input_2 = float(input(\"Enter the second number: \"))\n",
        "user_input_3 = float(input(\"Enter the third number: \"))\n",
        "if user_input_1 >= user_input_2 and user_input_1 >= user_input_3:\n",
        "  largest_number = user_input_1\n",
        "elif user_input_2 >= user_input_1 and user_input_2 >= user_input_3:\n",
        "  largest_number = user_input_2\n",
        "else:\n",
        "  largest_number = user_input_3\n",
        "print(\"The largest number is:\", largest_number)"
      ],
      "execution_count": null
    },
    {
      "cell_type": "markdown",
      "metadata": {
        "id": "OeMs3zgrtMIY"
      },
      "source": [
        "**Question 5:** Write a Python program to calculate the factorial of a number."
      ]
    },
    {
      "cell_type": "code",
      "metadata": {
        "colab": {
          "base_uri": "https://localhost:8080/"
        },
        "id": "1oWXxEZCtMIY",
        "outputId": "f575ded2-fdce-4366-9852-af5863d0ad6d"
      },
      "outputs": [
        {
          "output_type": "stream",
          "name": "stdout",
          "text": [
            "120\n"
          ]
        }
      ],
      "source": [
        "# Your code here\n",
        "def factorial(n):\n",
        "  if n==0:\n",
        "    return 1\n",
        "  else:\n",
        "    return n * factorial(n-1)\n",
        "print(factorial(5))"
      ],
      "execution_count": null
    },
    {
      "cell_type": "markdown",
      "metadata": {
        "id": "UCDjNH6ytMIb"
      },
      "source": [
        "## 2. Variables and Data Types\n",
        "\n",
        "**Question 6:** Create variables of different data types: integer, float, string, and boolean. Print their values and types."
      ]
    },
    {
      "cell_type": "code",
      "metadata": {
        "colab": {
          "base_uri": "https://localhost:8080/"
        },
        "id": "GB3Ot6NAtMIc",
        "outputId": "f2e12abc-9c55-41cb-d5f0-74e539f002e1"
      },
      "outputs": [
        {
          "output_type": "stream",
          "name": "stdout",
          "text": [
            "24 <class 'int'>\n",
            "98.56 <class 'float'>\n",
            "Taneesha <class 'str'>\n",
            "False <class 'bool'>\n"
          ]
        }
      ],
      "source": [
        "# Your code here\n",
        "int_var = 24\n",
        "float_var = 98.56\n",
        "str_var = \"Taneesha\"\n",
        "bool_var = False\n",
        "print(int_var, type(int_var))\n",
        "print(float_var, type(float_var))\n",
        "print(str_var, type(str_var))\n",
        "print(bool_var, type(bool_var))"
      ],
      "execution_count": null
    },
    {
      "cell_type": "markdown",
      "metadata": {
        "id": "Z42nK7h3tMId"
      },
      "source": [
        "**Question 7:** Write a Python program to swap the values of two variables."
      ]
    },
    {
      "cell_type": "code",
      "metadata": {
        "colab": {
          "base_uri": "https://localhost:8080/"
        },
        "id": "4nhMtXoOtMIe",
        "outputId": "5733ec23-f5cc-4609-d549-92ebaa164216"
      },
      "outputs": [
        {
          "output_type": "stream",
          "name": "stdout",
          "text": [
            "98.56 24\n"
          ]
        }
      ],
      "source": [
        "# Your code here\n",
        "int_var = 24\n",
        "float_var = 98.56\n",
        "temp = int_var\n",
        "int_var = float_var\n",
        "float_var = temp\n",
        "print(int_var, float_var)"
      ],
      "execution_count": null
    },
    {
      "cell_type": "markdown",
      "metadata": {
        "id": "KBGuszM5tMIe"
      },
      "source": [
        "**Question 8:** Write a Python program to convert Celsius to Fahrenheit."
      ]
    },
    {
      "cell_type": "code",
      "metadata": {
        "colab": {
          "base_uri": "https://localhost:8080/"
        },
        "id": "3vmgPMd9tMIf",
        "outputId": "82e3177f-7433-43dd-be6d-57080e36c016"
      },
      "outputs": [
        {
          "output_type": "stream",
          "name": "stdout",
          "text": [
            "Enter the temperature in Celsius: 34\n",
            "The temperature in Fahrenheit is: 93.2\n"
          ]
        }
      ],
      "source": [
        "# Your code here\n",
        "temp_c = input(\"Enter the temperature in Celsius: \")\n",
        "temp_c = float(temp_c)\n",
        "temp_f = (temp_c * 9/5) + 32\n",
        "print(\"The temperature in Fahrenheit is:\", temp_f)"
      ],
      "execution_count": null
    },
    {
      "cell_type": "markdown",
      "metadata": {
        "id": "d_Pfu4qptMIf"
      },
      "source": [
        "**Question 9:** Write a Python program to concatenate two strings."
      ]
    },
    {
      "cell_type": "code",
      "metadata": {
        "colab": {
          "base_uri": "https://localhost:8080/"
        },
        "id": "yPQk-CfltMIf",
        "outputId": "c2114dc3-fcd4-416f-c1fa-6b66f9de300e"
      },
      "outputs": [
        {
          "output_type": "stream",
          "name": "stdout",
          "text": [
            "Hello, World!\n"
          ]
        }
      ],
      "source": [
        "# Your code here\n",
        "str_1 = \"Hello, \"\n",
        "str_2 = \"World!\"\n",
        "print(str_1 + str_2)"
      ],
      "execution_count": null
    },
    {
      "cell_type": "markdown",
      "metadata": {
        "id": "vRl1pN-PtMIg"
      },
      "source": [
        "**Question 10:** Write a Python program to check if a variable is of a specific data type."
      ]
    },
    {
      "cell_type": "code",
      "metadata": {
        "colab": {
          "base_uri": "https://localhost:8080/"
        },
        "id": "5mbWNRO8tMIg",
        "outputId": "868e2727-029b-4a4e-f897-59f5c668f166"
      },
      "outputs": [
        {
          "output_type": "stream",
          "name": "stdout",
          "text": [
            "True\n"
          ]
        }
      ],
      "source": [
        "# Your code here\n",
        "def check_data_type(var, type):\n",
        "  if isinstance(var, type):\n",
        "    return True\n",
        "  else:\n",
        "    return False\n",
        "int_var = 24\n",
        "print(check_data_type(int_var, int))"
      ],
      "execution_count": null
    },
    {
      "cell_type": "markdown",
      "metadata": {
        "id": "LPv72tYDtMIh"
      },
      "source": [
        "## 3. Basic Operators (Arithmetic, Comparison, Logical)\n",
        "\n",
        "**Question 11:** Write a Python program to perform arithmetic operations: addition, subtraction, multiplication, and division."
      ]
    },
    {
      "cell_type": "code",
      "metadata": {
        "colab": {
          "base_uri": "https://localhost:8080/"
        },
        "id": "Ftx3ayT7tMIh",
        "outputId": "d9a08ad2-138e-4871-d17a-0259c13c19a0"
      },
      "outputs": [
        {
          "output_type": "stream",
          "name": "stdout",
          "text": [
            "30\n",
            "-10\n",
            "200\n",
            "0.5\n"
          ]
        }
      ],
      "source": [
        "# Your code here\n",
        "num_1 = 10\n",
        "num_2 = 20\n",
        "print(num_1 + num_2)\n",
        "print(num_1 - num_2)\n",
        "print(num_1 * num_2)\n",
        "print(num_1 / num_2)"
      ],
      "execution_count": null
    },
    {
      "cell_type": "markdown",
      "metadata": {
        "id": "ci-I4GxjtMIi"
      },
      "source": [
        "**Question 12:** Write a Python program to demonstrate comparison operators: equal to, not equal to, greater than, less than."
      ]
    },
    {
      "cell_type": "code",
      "metadata": {
        "colab": {
          "base_uri": "https://localhost:8080/"
        },
        "id": "015HNNSEtMIi",
        "outputId": "1a4569aa-ee05-4b01-eedc-b9f3321ffde6"
      },
      "outputs": [
        {
          "output_type": "stream",
          "name": "stdout",
          "text": [
            "False\n",
            "True\n",
            "False\n",
            "True\n"
          ]
        }
      ],
      "source": [
        "# Your code here\n",
        "num1 = 10\n",
        "num2 = 20\n",
        "print(num1 == num2)\n",
        "print(num1 != num2)\n",
        "print(num1 > num2)\n",
        "print(num1 < num2)"
      ],
      "execution_count": null
    },
    {
      "cell_type": "markdown",
      "metadata": {
        "id": "cdD5z_5MtMIi"
      },
      "source": [
        "**Question 13:** Write a Python program to demonstrate logical operators: and, or, not."
      ]
    },
    {
      "cell_type": "code",
      "metadata": {
        "colab": {
          "base_uri": "https://localhost:8080/"
        },
        "id": "CmB-6sActMIi",
        "outputId": "545fbdcb-2666-4007-8363-1ee21869600f"
      },
      "outputs": [
        {
          "output_type": "stream",
          "name": "stdout",
          "text": [
            "False\n",
            "True\n",
            "False\n"
          ]
        }
      ],
      "source": [
        "# Your code here\n",
        "var1 = True\n",
        "var2 = False\n",
        "print(var1 and var2)\n",
        "print(var1 or var2)\n",
        "print(not var1)"
      ],
      "execution_count": null
    },
    {
      "cell_type": "markdown",
      "metadata": {
        "id": "Q0rGHL2VtMIj"
      },
      "source": [
        "**Question 14:** Write a Python program to calculate the square of a number."
      ]
    },
    {
      "cell_type": "code",
      "metadata": {
        "colab": {
          "base_uri": "https://localhost:8080/"
        },
        "id": "I-bu8leBtMIj",
        "outputId": "8a46b398-11e3-40d0-b106-3ec810a74e22"
      },
      "outputs": [
        {
          "output_type": "stream",
          "name": "stdout",
          "text": [
            "Enter a number: 23\n",
            "The square of the number is: 529.0\n"
          ]
        }
      ],
      "source": [
        "# Your code here\n",
        "num = float(input(\"Enter a number: \"))\n",
        "print(\"The square of the number is:\", num**2)"
      ],
      "execution_count": null
    },
    {
      "cell_type": "markdown",
      "metadata": {
        "id": "o2ZjQKTUtMIk"
      },
      "source": [
        "**Question 15:** Write a Python program to check if a number is even or odd."
      ]
    },
    {
      "cell_type": "code",
      "metadata": {
        "colab": {
          "base_uri": "https://localhost:8080/"
        },
        "id": "TiRHZEWdtMIk",
        "outputId": "dca428e2-19af-46e9-94ef-e01e5dde03bd"
      },
      "outputs": [
        {
          "output_type": "stream",
          "name": "stdout",
          "text": [
            "Enter a number: 23\n",
            "The number is odd.\n"
          ]
        }
      ],
      "source": [
        "# Your code here\n",
        "num = float(input(\"Enter a number: \"))\n",
        "if num % 2 == 0:\n",
        "  print(\"The number is even.\")\n",
        "else:\n",
        "  print(\"The number is odd.\")"
      ],
      "execution_count": null
    },
    {
      "cell_type": "markdown",
      "metadata": {
        "id": "zJvBcMM_tMIk"
      },
      "source": [
        "**Question 16:** Write a Python program to find the sum of the first n natural numbers."
      ]
    },
    {
      "cell_type": "code",
      "metadata": {
        "colab": {
          "base_uri": "https://localhost:8080/"
        },
        "id": "jDNIKmAAtMIl",
        "outputId": "e6fb6652-132f-4f68-9872-d776de1985a1"
      },
      "outputs": [
        {
          "output_type": "stream",
          "name": "stdout",
          "text": [
            "Enter a number: 5\n",
            "The sum of the first 5 natural numbers is: 15\n"
          ]
        }
      ],
      "source": [
        "# Your code here\n",
        "num = int(input(\"Enter a number: \"))\n",
        "sum = 0\n",
        "for i in range(1, num+1):\n",
        "  sum += i\n",
        "print(\"The sum of the first\", num, \"natural numbers is:\", sum)"
      ],
      "execution_count": null
    },
    {
      "cell_type": "markdown",
      "metadata": {
        "id": "2_HvDvo-tMIm"
      },
      "source": [
        "**Question 17:** Write a Python program to check if a year is a leap year."
      ]
    },
    {
      "cell_type": "code",
      "metadata": {
        "colab": {
          "base_uri": "https://localhost:8080/"
        },
        "id": "NVTqlCTLtMIm",
        "outputId": "7acc8b4c-18c1-4827-b142-76a715740dc8"
      },
      "outputs": [
        {
          "output_type": "stream",
          "name": "stdout",
          "text": [
            "Enter a year: 4567\n",
            "not a leap year\n"
          ]
        }
      ],
      "source": [
        "# Your code here\n",
        "year = int(input(\"Enter a year: \"))\n",
        "if (year % 4 == 0 and year % 100 != 0) or (year % 400 == 0):\n",
        "    print(\"leap year\")\n",
        "else:\n",
        "    print(\"not a leap year\")"
      ],
      "execution_count": null
    },
    {
      "cell_type": "markdown",
      "metadata": {
        "id": "pB9fE0QTtMIn"
      },
      "source": [
        "**Question 18:** Write a Python program to reverse a string."
      ]
    },
    {
      "cell_type": "code",
      "metadata": {
        "colab": {
          "base_uri": "https://localhost:8080/"
        },
        "id": "q2yMcptJtMIn",
        "outputId": "2c0f2d79-9507-4f90-b497-0375378a44a5"
      },
      "outputs": [
        {
          "output_type": "stream",
          "name": "stdout",
          "text": [
            "Enter a string: hello\n",
            "olleh\n"
          ]
        }
      ],
      "source": [
        "# Your code here\n",
        "string = str(input(\"Enter a string: \"))\n",
        "print(string[::-1])"
      ],
      "execution_count": null
    },
    {
      "cell_type": "markdown",
      "metadata": {
        "id": "FIR2jzr5tMIo"
      },
      "source": [
        "**Question 19:** Write a Python program to check if a string is a palindrome."
      ]
    },
    {
      "cell_type": "code",
      "metadata": {
        "colab": {
          "base_uri": "https://localhost:8080/"
        },
        "id": "Balp2jl4tMIo",
        "outputId": "5144d367-edeb-4e72-aef4-322f47ce5466"
      },
      "outputs": [
        {
          "output_type": "stream",
          "name": "stdout",
          "text": [
            "Enter a string: strts\n",
            "a palindrome\n"
          ]
        }
      ],
      "source": [
        "# Your code here\n",
        "string = str(input(\"Enter a string: \"))\n",
        "if string == string[::-1]:\n",
        "  print(\"a palindrome\")\n",
        "else:\n",
        "  print(\"not a palindrome\")"
      ],
      "execution_count": null
    },
    {
      "cell_type": "markdown",
      "metadata": {
        "id": "LZ2w1mbvtMI1"
      },
      "source": [
        "**Question 20:** Write a Python program to sort a list of numbers in ascending order."
      ]
    },
    {
      "cell_type": "code",
      "metadata": {
        "id": "DgW9bUaUtMI2"
      },
      "outputs": [],
      "source": [
        "# Your code here\n"
      ],
      "execution_count": null
    }
  ],
  "metadata": {
    "kernelspec": {
      "display_name": "Python 3",
      "language": "python",
      "name": "python3"
    },
    "language_info": {
      "codemirror_mode": {
        "name": "ipython",
        "version": 3
      },
      "file_extension": ".py",
      "mimetype": "text/x-python",
      "name": "python",
      "nbconvert_exporter": "python",
      "pygments_lexer": "ipython3",
      "version": "3.8.5"
    },
    "colab": {
      "provenance": []
    }
  },
  "nbformat": 4,
  "nbformat_minor": 0
}
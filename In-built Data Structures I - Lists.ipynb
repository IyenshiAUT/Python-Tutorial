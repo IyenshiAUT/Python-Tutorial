{
 "cells": [
  {
   "cell_type": "markdown",
   "metadata": {},
   "source": [
    "# Module 3: Data Structures Assignments\n",
    "## Lesson 3.1: Lists\n",
    "### Assignment 1: Creating and Accessing Lists\n",
    "\n",
    "Create a list of the first 20 positive integers. Print the list.\n",
    "\n",
    "### Assignment 2: Accessing List Elements\n",
    "\n",
    "Print the first, middle, and last elements of the list created in Assignment 1.\n",
    "\n",
    "### Assignment 3: List Slicing\n",
    "\n",
    "Print the first five elements, the last five elements, and the elements from index 5 to 15 of the list created in Assignment 1.\n",
    "\n",
    "### Assignment 4: List Comprehensions\n",
    "\n",
    "Create a new list containing the squares of the first 10 positive integers using a list comprehension. Print the new list.\n",
    "\n",
    "### Assignment 5: Filtering Lists\n",
    "\n",
    "Create a new list containing only the even numbers from the list created in Assignment 1 using a list comprehension. Print the new list.\n",
    "\n",
    "### Assignment 6: List Methods\n",
    "\n",
    "Create a list of random numbers and sort it in ascending and descending order. Remove the duplicates from the list and print the modified list.\n",
    "\n",
    "### Assignment 7: Nested Lists\n",
    "\n",
    "Create a nested list representing a 3x3 matrix and print the matrix. Access and print the element at the second row and third column.\n",
    "\n",
    "### Assignment 8: List of Dictionaries\n",
    "\n",
    "Create a list of dictionaries where each dictionary represents a student with keys 'name' and 'score'. Sort the list of dictionaries by the 'score' in descending order and print the sorted list.\n",
    "\n",
    "### Assignment 9: Matrix Transposition\n",
    "\n",
    "Write a function that takes a 3x3 matrix (nested list) as input and returns its transpose. Print the original and transposed matrices.\n",
    "\n",
    "### Assignment 10: Flattening a Nested List\n",
    "\n",
    "Write a function that takes a nested list and flattens it into a single list. Print the original and flattened lists.\n",
    "\n",
    "### Assignment 11: List Manipulation\n",
    "\n",
    "Create a list of the first 10 positive integers. Remove the elements at indices 2, 4, and 6, and insert the element '99' at index 5. Print the modified list.\n",
    "\n",
    "### Assignment 12: List Zipping\n",
    "\n",
    "Create two lists of the same length. Use the `zip` function to combine these lists into a list of tuples and print the result.\n",
    "\n",
    "### Assignment 13: List Reversal\n",
    "\n",
    "Write a function that takes a list and returns a new list with the elements in reverse order. Print the original and reversed lists.\n",
    "\n",
    "### Assignment 14: List Rotation\n",
    "\n",
    "Write a function that rotates a list by n positions. Print the original and rotated lists.\n",
    "\n",
    "### Assignment 15: List Intersection\n",
    "\n",
    "Write a function that takes two lists and returns a new list containing only the elements that are present in both lists. Print the intersected list."
   ]
  },
  {
   "cell_type": "markdown",
   "id": "f26a6bda",
   "metadata": {},
   "source": [
    "#### Assignment 1"
   ]
  },
  {
   "cell_type": "code",
   "execution_count": 2,
   "metadata": {},
   "outputs": [
    {
     "name": "stdout",
     "output_type": "stream",
     "text": [
      "[1, 2, 3, 4, 5, 6, 7, 8, 9, 10, 11, 12, 13, 14, 15, 16, 17, 18, 19, 20]\n"
     ]
    }
   ],
   "source": [
    "num_list = list(range(1,21))\n",
    "print(num_list)"
   ]
  },
  {
   "cell_type": "markdown",
   "id": "cf6ff5d9",
   "metadata": {},
   "source": [
    "#### Assignment 2"
   ]
  },
  {
   "cell_type": "code",
   "execution_count": 4,
   "id": "510b86e0",
   "metadata": {},
   "outputs": [
    {
     "name": "stdout",
     "output_type": "stream",
     "text": [
      "1\n",
      "20\n",
      "11\n"
     ]
    }
   ],
   "source": [
    "print(num_list[0])\n",
    "print(num_list[len(num_list)-1])\n",
    "print(num_list[len(num_list)//2])"
   ]
  },
  {
   "cell_type": "markdown",
   "id": "abc67c6e",
   "metadata": {},
   "source": [
    "#### Assignment 3"
   ]
  },
  {
   "cell_type": "code",
   "execution_count": 6,
   "id": "fb02bd08",
   "metadata": {},
   "outputs": [
    {
     "name": "stdout",
     "output_type": "stream",
     "text": [
      "[1, 2, 3, 4, 5]\n",
      "[16, 17, 18, 19, 20]\n",
      "[6, 7, 8, 9, 10, 11, 12, 13, 14, 15, 16]\n"
     ]
    }
   ],
   "source": [
    "print(num_list[:5])\n",
    "print(num_list[15:])  ## print(num_list[-5:])\n",
    "print(num_list[5:16])"
   ]
  },
  {
   "cell_type": "markdown",
   "id": "4f347059",
   "metadata": {},
   "source": [
    "#### Assignment 4"
   ]
  },
  {
   "cell_type": "code",
   "execution_count": 7,
   "id": "03af8092",
   "metadata": {},
   "outputs": [
    {
     "name": "stdout",
     "output_type": "stream",
     "text": [
      "[1, 4, 9, 16, 25, 36, 49, 64, 81, 100]\n"
     ]
    }
   ],
   "source": [
    "square_nums = [num**2 for num in range(1,11)]\n",
    "print(square_nums)"
   ]
  },
  {
   "cell_type": "markdown",
   "id": "903658b5",
   "metadata": {},
   "source": [
    "#### Assignment 5"
   ]
  },
  {
   "cell_type": "code",
   "execution_count": 8,
   "id": "c86022f5",
   "metadata": {},
   "outputs": [
    {
     "name": "stdout",
     "output_type": "stream",
     "text": [
      "[4, 16, 36, 64, 100]\n"
     ]
    }
   ],
   "source": [
    "even_square_nums = [num for num in square_nums if num%2 == 0]\n",
    "print(even_square_nums)"
   ]
  },
  {
   "cell_type": "markdown",
   "id": "db44df7f",
   "metadata": {},
   "source": [
    "#### Assignment 6"
   ]
  },
  {
   "cell_type": "code",
   "execution_count": 9,
   "id": "4f8c6e03",
   "metadata": {},
   "outputs": [
    {
     "name": "stdout",
     "output_type": "stream",
     "text": [
      "[4, 8, 19, 6, 21, 12, 3, 10, 9, 3]\n"
     ]
    }
   ],
   "source": [
    "import random\n",
    "\n",
    "random_nums = [random.randint(1,21) for i in range(10)]\n",
    "print(random_nums)"
   ]
  },
  {
   "cell_type": "code",
   "execution_count": 10,
   "id": "ae7f905a",
   "metadata": {},
   "outputs": [
    {
     "name": "stdout",
     "output_type": "stream",
     "text": [
      "[3, 3, 4, 6, 8, 9, 10, 12, 19, 21]\n"
     ]
    }
   ],
   "source": [
    "random_nums.sort()\n",
    "print(random_nums)"
   ]
  },
  {
   "cell_type": "code",
   "execution_count": 11,
   "id": "b696f2fe",
   "metadata": {},
   "outputs": [
    {
     "name": "stdout",
     "output_type": "stream",
     "text": [
      "[21, 19, 12, 10, 9, 8, 6, 4, 3, 3]\n"
     ]
    }
   ],
   "source": [
    "random_nums.reverse()\n",
    "print(random_nums)"
   ]
  },
  {
   "cell_type": "code",
   "execution_count": 12,
   "id": "204e797b",
   "metadata": {},
   "outputs": [
    {
     "name": "stdout",
     "output_type": "stream",
     "text": [
      "[3, 4, 6, 8, 9, 10, 12, 19, 21]\n"
     ]
    }
   ],
   "source": [
    "ls = (list(set(random_nums)))\n",
    "print(ls)"
   ]
  },
  {
   "cell_type": "markdown",
   "id": "d13de68b",
   "metadata": {},
   "source": [
    "#### Assignment 7"
   ]
  },
  {
   "cell_type": "code",
   "execution_count": 13,
   "id": "e15bf18f",
   "metadata": {},
   "outputs": [
    {
     "name": "stdout",
     "output_type": "stream",
     "text": [
      "[[1, 2, 3], [4, 5, 6], [7, 8, 9]]\n",
      "6\n"
     ]
    }
   ],
   "source": [
    "matrix = [\n",
    "    [1, 2, 3],\n",
    "    [4, 5, 6],\n",
    "    [7, 8, 9]\n",
    "]\n",
    "print(matrix)\n",
    "print(matrix[1][2])"
   ]
  },
  {
   "cell_type": "markdown",
   "id": "8ea68fc7",
   "metadata": {},
   "source": [
    "#### Assignment 8"
   ]
  },
  {
   "cell_type": "code",
   "execution_count": 14,
   "id": "7cb7074c",
   "metadata": {},
   "outputs": [
    {
     "name": "stdout",
     "output_type": "stream",
     "text": [
      "[{'name': 'Taneesha', 'score': 24}, {'name': 'Sethmina', 'score': 56}, {'name': 'Hemantha', 'score': 50}]\n"
     ]
    }
   ],
   "source": [
    "students = [\n",
    "    {\"name\":\"Taneesha\", \"score\":24},\n",
    "    {\"name\":\"Sethmina\", \"score\":56},\n",
    "    {\"name\":\"Hemantha\", \"score\":50}\n",
    "]\n",
    "print(students)"
   ]
  },
  {
   "cell_type": "code",
   "execution_count": 15,
   "id": "94fe60e1",
   "metadata": {},
   "outputs": [
    {
     "name": "stdout",
     "output_type": "stream",
     "text": [
      "{'name': 'Sethmina', 'score': 56}\n",
      "{'name': 'Hemantha', 'score': 50}\n",
      "{'name': 'Taneesha', 'score': 24}\n"
     ]
    }
   ],
   "source": [
    "sorted_students = sorted(students, key= lambda x: x[\"score\"], reverse=True)\n",
    "for students in sorted_students:\n",
    "    print(students)"
   ]
  },
  {
   "cell_type": "markdown",
   "id": "3fdc2161",
   "metadata": {},
   "source": [
    "#### Assignment 9"
   ]
  },
  {
   "cell_type": "code",
   "execution_count": 23,
   "id": "610af684",
   "metadata": {},
   "outputs": [
    {
     "name": "stdout",
     "output_type": "stream",
     "text": [
      "[1, 4, 7]\n",
      "[2, 5, 8]\n",
      "[3, 6, 9]\n"
     ]
    }
   ],
   "source": [
    "def transpose_matrix(matrix):\n",
    "    transpose = [[matrix[j][i] for j in range(len(matrix))] for i in range(len(matrix[0]))]\n",
    "    return transpose\n",
    "tp = transpose_matrix(matrix)\n",
    "for row in tp:\n",
    "    print(row)"
   ]
  },
  {
   "cell_type": "markdown",
   "id": "22dbae9b",
   "metadata": {},
   "source": [
    "#### Assignment 10"
   ]
  },
  {
   "cell_type": "code",
   "execution_count": 24,
   "id": "ee02ad99",
   "metadata": {},
   "outputs": [
    {
     "name": "stdout",
     "output_type": "stream",
     "text": [
      "[1, 2, 3, 4, 5, 6, 7, 8, 9]\n"
     ]
    }
   ],
   "source": [
    "def flatten_list(nested_list):\n",
    "    return [nested_list[i][j] for i in range(len(nested_list)) for j in range(len(nested_list[0]))]\n",
    "print(flatten_list(matrix))\n"
   ]
  },
  {
   "cell_type": "code",
   "execution_count": 25,
   "id": "4781b197",
   "metadata": {},
   "outputs": [
    {
     "name": "stdout",
     "output_type": "stream",
     "text": [
      "[1, 2, 3, 4, 5, 6, 7, 8, 9]\n"
     ]
    }
   ],
   "source": [
    "def flatten_list(nested_list):\n",
    "    flat_list = [item for sublist in nested_list for item in sublist]\n",
    "    return flat_list\n",
    "print(flatten_list(matrix))"
   ]
  },
  {
   "cell_type": "markdown",
   "id": "bceed4d5",
   "metadata": {},
   "source": [
    "#### Assignment 11"
   ]
  },
  {
   "cell_type": "code",
   "execution_count": 29,
   "id": "52728616",
   "metadata": {},
   "outputs": [
    {
     "name": "stdout",
     "output_type": "stream",
     "text": [
      "[1, 2, 3, 4, 5, 6, 7, 8, 9, 10]\n",
      "[1, 2, 4, 5, 7, 8, 10]\n",
      "[1, 2, 4, 5, 7, 99, 8, 10]\n"
     ]
    }
   ],
   "source": [
    "lst = list(range(1,11))\n",
    "print(lst)\n",
    "del lst[2]\n",
    "del lst[4]\n",
    "del lst[6]\n",
    "print(lst)\n",
    "lst.insert(5, 99)\n",
    "print(lst)"
   ]
  },
  {
   "cell_type": "markdown",
   "id": "7ef1b44c",
   "metadata": {},
   "source": [
    "#### Assignment 12"
   ]
  },
  {
   "cell_type": "code",
   "execution_count": 30,
   "id": "f8ef55cc",
   "metadata": {},
   "outputs": [
    {
     "name": "stdout",
     "output_type": "stream",
     "text": [
      "[('a', 'A'), ('b', 'B'), ('c', 'C'), ('d', 'D')]\n"
     ]
    }
   ],
   "source": [
    "lst1 = ['a', 'b', 'c', 'd']\n",
    "lst2 = ['A', 'B', 'C', 'D']\n",
    "zipped = list(zip(lst1, lst2))\n",
    "print(zipped)"
   ]
  },
  {
   "cell_type": "markdown",
   "id": "a1f9cd92",
   "metadata": {},
   "source": [
    "#### Assignment 13"
   ]
  },
  {
   "cell_type": "code",
   "execution_count": 31,
   "id": "f1a31dd2",
   "metadata": {},
   "outputs": [
    {
     "name": "stdout",
     "output_type": "stream",
     "text": [
      "['a', 'e', 'i', 'o', 'u']\n",
      "['u', 'o', 'i', 'e', 'a']\n"
     ]
    }
   ],
   "source": [
    "def reverse_list(list):\n",
    "    return list[::-1]\n",
    "\n",
    "lst = ['a', 'e', 'i', 'o', 'u']\n",
    "print(lst)\n",
    "print(reverse_list(lst))"
   ]
  },
  {
   "cell_type": "markdown",
   "id": "857fbd80",
   "metadata": {},
   "source": [
    "#### Assignment 14"
   ]
  },
  {
   "cell_type": "code",
   "execution_count": 32,
   "id": "25089cce",
   "metadata": {},
   "outputs": [
    {
     "name": "stdout",
     "output_type": "stream",
     "text": [
      "['a', 'e', 'i', 'o', 'u']\n",
      "['i', 'o', 'u', 'a', 'e']\n"
     ]
    }
   ],
   "source": [
    "def rotate(lst, n):\n",
    "    return lst[n:] + lst[:n]\n",
    "print(lst)\n",
    "print(rotate(lst, 2))"
   ]
  },
  {
   "cell_type": "markdown",
   "id": "94f7ece6",
   "metadata": {},
   "source": [
    "#### Assignment 15"
   ]
  },
  {
   "cell_type": "code",
   "execution_count": 34,
   "id": "0fa47dc2",
   "metadata": {},
   "outputs": [
    {
     "name": "stdout",
     "output_type": "stream",
     "text": [
      "[2, 4, 6, 8]\n"
     ]
    }
   ],
   "source": [
    "def intersection(list1, list2):\n",
    "    return [item1 for item1 in list1 if item1 in list2]\n",
    "lst1 = [1, 2, 3, 4, 5 ,6 ,7 ,8, 9]\n",
    "lst2 = [2, 4, 6, 8]\n",
    "print(intersection(lst1, lst2))"
   ]
  }
 ],
 "metadata": {
  "kernelspec": {
   "display_name": "Python 3",
   "language": "python",
   "name": "python3"
  },
  "language_info": {
   "codemirror_mode": {
    "name": "ipython",
    "version": 3
   },
   "file_extension": ".py",
   "mimetype": "text/x-python",
   "name": "python",
   "nbconvert_exporter": "python",
   "pygments_lexer": "ipython3",
   "version": "3.10.15"
  }
 },
 "nbformat": 4,
 "nbformat_minor": 5
}

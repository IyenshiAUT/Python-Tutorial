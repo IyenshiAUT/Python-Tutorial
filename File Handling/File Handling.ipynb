{
 "cells": [
  {
   "cell_type": "markdown",
   "metadata": {},
   "source": [
    "# Module: File Handling Assignments\n",
    "## Lesson: File Handling and Operations\n",
    "### Assignment 1: Reading a File\n",
    "\n",
    "Write a function that reads the contents of a file named `sample.txt` and prints each line.\n",
    "\n",
    "### Assignment 2: Writing to a File\n",
    "\n",
    "Write a function that writes a list of strings to a file named `output.txt`, with each string on a new line.\n",
    "\n",
    "### Assignment 3: Copying a File\n",
    "\n",
    "Write a function that copies the contents of a file named `source.txt` to a new file named `destination.txt`.\n",
    "\n",
    "### Assignment 4: Appending to a File\n",
    "\n",
    "Write a function that appends a given string to the end of a file named `log.txt`.\n",
    "\n",
    "### Assignment 5: Counting Words in a File\n",
    "\n",
    "Write a function that reads the contents of a file named `document.txt` and returns the number of words in the file.\n",
    "\n",
    "### Assignment 6: Finding and Replacing Text\n",
    "\n",
    "Write a function that finds and replaces all occurrences of a given word in a file named `data.txt` with another word.\n",
    "\n",
    "### Assignment 7: Reading a File in Reverse\n",
    "\n",
    "Write a function that reads the contents of a file named `reverse.txt` and prints each line in reverse order.\n",
    "\n",
    "### Assignment 8: Counting Lines, Words, and Characters\n",
    "\n",
    "Write a function that reads the contents of a file named `stats.txt` and returns the number of lines, words, and characters in the file.\n",
    "\n",
    "### Assignment 9: Merging Multiple Files\n",
    "\n",
    "Write a function that merges the contents of multiple files into a single file named `merged.txt`.\n",
    "\n",
    "### Assignment 10: Splitting a Large File\n",
    "\n",
    "Write a function that splits a large file named `large.txt` into smaller files of 100 lines each.\n",
    "\n",
    "### Assignment 11: Creating a Log File\n",
    "\n",
    "Write a function that creates a log file named `activity.log` and writes log messages with timestamps.\n",
    "\n",
    "### Assignment 12: Binary File Operations\n",
    "\n",
    "Write a function that reads a binary file named `image.bin` and writes its contents to another binary file named `copy_image.bin`.\n",
    "\n",
    "### Assignment 13: CSV File Operations\n",
    "\n",
    "Write a function that reads a CSV file named `data.csv` and prints its contents as a list of dictionaries.\n",
    "\n",
    "### Assignment 14: JSON File Operations\n",
    "\n",
    "Write a function that reads a JSON file named `data.json` and prints its contents as a Python dictionary.\n",
    "\n",
    "### Assignment 15: File Permission Handling\n",
    "\n",
    "Write a function that attempts to read a file named `protected.txt` and handles any permission errors gracefully by printing an error message."
   ]
  },
  {
   "cell_type": "markdown",
   "id": "7cd311ad",
   "metadata": {},
   "source": [
    "#### Assignement 1"
   ]
  },
  {
   "cell_type": "code",
   "execution_count": 6,
   "metadata": {},
   "outputs": [
    {
     "name": "stdout",
     "output_type": "stream",
     "text": [
      "Hello, I'm Uduli Taneesha Iyenshi.\n",
      "I'm 24 years old.\n"
     ]
    }
   ],
   "source": [
    "def read_file(input_file):\n",
    "    with open (input_file, 'r') as file:\n",
    "        content = file.read()\n",
    "        print(content)\n",
    "\n",
    "read_file('sample.txt')"
   ]
  },
  {
   "cell_type": "markdown",
   "id": "1a388134",
   "metadata": {},
   "source": [
    "#### Assignment 2"
   ]
  },
  {
   "cell_type": "code",
   "execution_count": 9,
   "id": "986900fc",
   "metadata": {},
   "outputs": [],
   "source": [
    "def write_file(lines, input_file):\n",
    "    with open('output.txt', 'a')as file:\n",
    "        for line in lines:\n",
    "            file.writelines(line+'\\n')\n",
    "\n",
    "write_file(\n",
    "    lines = [\"This is line 1.\", \"This is line 2.\", \"This is line 3.\", \"This is line 4.\"], input_file='output.txt')"
   ]
  },
  {
   "cell_type": "markdown",
   "id": "09f72a61",
   "metadata": {},
   "source": [
    "#### Assignment 3"
   ]
  },
  {
   "cell_type": "code",
   "execution_count": 12,
   "id": "17134bd6",
   "metadata": {},
   "outputs": [],
   "source": [
    "def copy_file(source, destination):\n",
    "    with open(source, 'r') as file_1:\n",
    "        with open(destination, 'w') as file_2:\n",
    "            file_2.write(file_1.read())\n",
    "            \n",
    "copy_file('source.txt', 'destination.txt')"
   ]
  },
  {
   "cell_type": "markdown",
   "id": "19d3fbcb",
   "metadata": {},
   "source": [
    "#### Assignment 4"
   ]
  },
  {
   "cell_type": "code",
   "execution_count": 13,
   "id": "ea6f9638",
   "metadata": {},
   "outputs": [],
   "source": [
    "def append_file(line, file_name):\n",
    "    with open (file_name, 'a') as file:\n",
    "        file.write(line)\n",
    "        \n",
    "append_file('This is the second sentence.', 'log.txt')"
   ]
  },
  {
   "cell_type": "markdown",
   "id": "cb4a53d9",
   "metadata": {},
   "source": [
    "#### Assignment 5"
   ]
  },
  {
   "cell_type": "code",
   "execution_count": 14,
   "id": "61563f1a",
   "metadata": {},
   "outputs": [
    {
     "name": "stdout",
     "output_type": "stream",
     "text": [
      "91\n"
     ]
    }
   ],
   "source": [
    "def count_words(file_name):\n",
    "    with open (file_name, 'r') as file:\n",
    "        content = file.read()\n",
    "        words = content.split()\n",
    "        return(len(words))\n",
    "    \n",
    "print(count_words('document.txt'))"
   ]
  },
  {
   "cell_type": "markdown",
   "id": "9ac66e3b",
   "metadata": {},
   "source": [
    "#### Assignment 6"
   ]
  },
  {
   "cell_type": "code",
   "execution_count": 15,
   "id": "9ef03989",
   "metadata": {},
   "outputs": [],
   "source": [
    "def replace_word(old_word, new_word, file_name):\n",
    "    with open (file_name, 'r') as file:\n",
    "        content = file.read()\n",
    "    new_content = content.replace(old_word, new_word)\n",
    "    \n",
    "    with open(file_name, 'w') as file:\n",
    "        file.write(new_content)   \n",
    "\n",
    "replace_word('passages', 'paragraphs', 'data.txt')    "
   ]
  },
  {
   "cell_type": "markdown",
   "id": "b97527e4",
   "metadata": {},
   "source": [
    "#### Assignment 7"
   ]
  },
  {
   "cell_type": "code",
   "execution_count": 19,
   "id": "53cd4fcd",
   "metadata": {},
   "outputs": [
    {
     "name": "stdout",
     "output_type": "stream",
     "text": [
      "\"But I must explain to you how all this mistaken idea of denouncing pleasure and praising pain was born and I will give you a complete account of the system, and expound the actual teachings of the great explorer of the truth, the master-builder of human happiness. No one rejects, dislikes, or avoids pleasure itself, because it is pleasure, but because those who do not know how to pursue pleasure rationally encounter consequences that are extremely painful. Nor again is there anyone who loves or pursues or desires to obtain pain of itself, because it is pain, but because occasionally circumstances occur in which toil and pain can procure him some great pleasure. To take a trivial example, which of us ever undertakes laborious physical exercise, except to obtain some advantage from it? But who has any right to find fault with a man who chooses to enjoy a pleasure that has no annoying consequences, or one who avoids a pain that produces no resultant pleasure?\"\n"
     ]
    }
   ],
   "source": [
    "def reverse_txt(file_name):\n",
    "    with open (file_name, 'r') as file:\n",
    "        lines = file.readlines()\n",
    "    for line in reversed(lines):\n",
    "        print(line.strip())\n",
    "        \n",
    "reverse_txt('reverse.txt')"
   ]
  },
  {
   "cell_type": "markdown",
   "id": "1cc73b5c",
   "metadata": {},
   "source": [
    "#### Assignment 8"
   ]
  },
  {
   "cell_type": "code",
   "execution_count": 3,
   "id": "efeb76e3",
   "metadata": {},
   "outputs": [
    {
     "name": "stdout",
     "output_type": "stream",
     "text": [
      "(1, 117, 743)\n"
     ]
    }
   ],
   "source": [
    "def counts(file_name):\n",
    "    with open (file_name, 'r') as file:\n",
    "        lines = file.readlines()\n",
    "        words = sum(len(line.split()) for line in lines)\n",
    "        characters = sum(len(line) for line in lines)\n",
    "    return len(lines), words, characters\n",
    "\n",
    "print(counts('stats.txt'))"
   ]
  },
  {
   "cell_type": "markdown",
   "id": "49379230",
   "metadata": {},
   "source": [
    "#### Assignment 9"
   ]
  },
  {
   "cell_type": "code",
   "execution_count": null,
   "id": "d35d0c9b",
   "metadata": {},
   "outputs": [],
   "source": [
    "def merge_file(file_list, file_name):\n",
    "    with open (file_list, 'w')as file:\n",
    "        for file_1 in file_list:\n",
    "            with open(file_1, 'r') as file2:\n",
    "                file.write(file.read()+'\\n')"
   ]
  },
  {
   "cell_type": "markdown",
   "id": "a03355eb",
   "metadata": {},
   "source": [
    "#### Assignment 10"
   ]
  },
  {
   "cell_type": "code",
   "execution_count": 5,
   "id": "8b2e5c9d",
   "metadata": {},
   "outputs": [],
   "source": [
    "def split_file(file_name):\n",
    "    with open (file_name, 'r') as file:\n",
    "        lines = file.readline()\n",
    "        for i in range(0, len(lines), 100):\n",
    "            with open('text{i}.txt', 'w') as new_file:\n",
    "                new_file.writelines(lines[i:i+100])"
   ]
  },
  {
   "cell_type": "markdown",
   "id": "cfb6a2c9",
   "metadata": {},
   "source": [
    "#### Assginment 11"
   ]
  },
  {
   "cell_type": "code",
   "execution_count": 6,
   "id": "37c09c92",
   "metadata": {},
   "outputs": [],
   "source": [
    "import datetime\n",
    "\n",
    "def write_log_message(message):\n",
    "    with open ('activity.log', 'a') as log_file:\n",
    "        log_file.write(datetime.datetime.now().isoformat(), message)"
   ]
  },
  {
   "cell_type": "markdown",
   "id": "a01a5766",
   "metadata": {},
   "source": [
    "#### Assignment 12"
   ]
  },
  {
   "cell_type": "code",
   "execution_count": 1,
   "id": "b8a5da1f",
   "metadata": {},
   "outputs": [],
   "source": [
    "def copy_content(source, destination):\n",
    "    with open(source, 'rb') as src:\n",
    "        with open (destination, 'wb') as dest:\n",
    "            dest.write(src.read())"
   ]
  },
  {
   "cell_type": "markdown",
   "id": "e8d4c152",
   "metadata": {},
   "source": [
    "#### Assignment 13"
   ]
  },
  {
   "cell_type": "code",
   "execution_count": 2,
   "id": "699f325c",
   "metadata": {},
   "outputs": [],
   "source": [
    "import csv\n",
    "\n",
    "def read_csv_as_dict(csv_file):\n",
    "    with open (csv_file, 'r') as file:\n",
    "        content = csv.DictReader(file)\n",
    "        return list(content)"
   ]
  },
  {
   "cell_type": "markdown",
   "id": "028a18b3",
   "metadata": {},
   "source": [
    "#### Assignment 14"
   ]
  },
  {
   "cell_type": "code",
   "execution_count": 3,
   "id": "edcefb0b",
   "metadata": {},
   "outputs": [],
   "source": [
    "import json \n",
    "\n",
    "def read_json(json_file):\n",
    "    with open(json_file, 'r') as file:\n",
    "        content = json.load(file)\n",
    "        return content"
   ]
  },
  {
   "cell_type": "markdown",
   "id": "6439e87f",
   "metadata": {},
   "source": [
    "#### Assignment 15"
   ]
  },
  {
   "cell_type": "code",
   "execution_count": 4,
   "id": "49e5955c",
   "metadata": {},
   "outputs": [],
   "source": [
    "def read_protected_file(protected_file):\n",
    "    try:\n",
    "        with open (protected_file, 'r') as file:\n",
    "            content = file.read()\n",
    "    except PermissionError as err:\n",
    "        print(err)"
   ]
  }
 ],
 "metadata": {
  "kernelspec": {
   "display_name": "Python 3",
   "language": "python",
   "name": "python3"
  },
  "language_info": {
   "codemirror_mode": {
    "name": "ipython",
    "version": 3
   },
   "file_extension": ".py",
   "mimetype": "text/x-python",
   "name": "python",
   "nbconvert_exporter": "python",
   "pygments_lexer": "ipython3",
   "version": "3.10.15"
  }
 },
 "nbformat": 4,
 "nbformat_minor": 5
}

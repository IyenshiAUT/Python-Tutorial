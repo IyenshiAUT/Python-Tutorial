{
 "cells": [
  {
   "cell_type": "markdown",
   "metadata": {},
   "source": [
    "# Module 3: Data Structures Assignments\n",
    "## Lesson 3.4: Dictionaries\n",
    "### Assignment 1: Creating and Accessing Dictionaries\n",
    "\n",
    "Create a dictionary with the first 10 positive integers as keys and their squares as values. Print the dictionary.\n",
    "\n",
    "### Assignment 2: Accessing Dictionary Elements\n",
    "\n",
    "Print the value of the key 5 and the keys of the dictionary created in Assignment 1.\n",
    "\n",
    "### Assignment 3: Dictionary Methods\n",
    "\n",
    "Add a new key-value pair (11, 121) to the dictionary created in Assignment 1 and then remove the key-value pair with key 1. Print the modified dictionary.\n",
    "\n",
    "### Assignment 4: Iterating Over Dictionaries\n",
    "\n",
    "Iterate over the dictionary created in Assignment 1 and print each key-value pair.\n",
    "\n",
    "### Assignment 5: Dictionary Comprehensions\n",
    "\n",
    "Create a new dictionary containing the cubes of the first 10 positive integers using a dictionary comprehension. Print the new dictionary.\n",
    "\n",
    "### Assignment 6: Merging Dictionaries\n",
    "\n",
    "Create two dictionaries: one with keys as the first 5 positive integers and values as their squares, and another with keys as the next 5 positive integers and values as their squares. Merge these dictionaries into a single dictionary and print it.\n",
    "\n",
    "### Assignment 7: Nested Dictionaries\n",
    "\n",
    "Create a nested dictionary representing a student with keys 'name', 'age', 'grades', where 'grades' is another dictionary with keys 'math', 'science', and 'english'. Print the nested dictionary.\n",
    "\n",
    "### Assignment 8: Dictionary of Lists\n",
    "\n",
    "Create a dictionary where the keys are the first 5 positive integers and the values are lists containing the first 5 multiples of the key. Print the dictionary.\n",
    "\n",
    "### Assignment 9: Dictionary of Tuples\n",
    "\n",
    "Create a dictionary where the keys are the first 5 positive integers and the values are tuples containing the key and its square. Print the dictionary.\n",
    "\n",
    "### Assignment 10: Dictionary and List Conversion\n",
    "\n",
    "Create a dictionary with the first 5 positive integers as keys and their squares as values. Convert the dictionary to a list of tuples and print it.\n",
    "\n",
    "### Assignment 11: Dictionary Filtering\n",
    "\n",
    "Create a dictionary with the first 10 positive integers as keys and their squares as values. Create a new dictionary containing only the key-value pairs where the key is even. Print the new dictionary.\n",
    "\n",
    "### Assignment 12: Dictionary Key and Value Transformation\n",
    "\n",
    "Create a dictionary with the first 5 positive integers as keys and their squares as values. Create a new dictionary with keys and values swapped. Print the new dictionary.\n",
    "\n",
    "### Assignment 13: Default Dictionary\n",
    "\n",
    "Create a default dictionary where each key has a default value of an empty list. Add some elements to the lists and print the dictionary.\n",
    "\n",
    "### Assignment 14: Counting with Dictionaries\n",
    "\n",
    "Write a function that takes a string and returns a dictionary with the count of each character in the string. Print the dictionary.\n",
    "\n",
    "### Assignment 15: Dictionary and JSON\n",
    "\n",
    "Create a dictionary representing a book with keys 'title', 'author', 'year', and 'genre'. Convert the dictionary to a JSON string and print it."
   ]
  },
  {
   "cell_type": "markdown",
   "id": "d1797793",
   "metadata": {},
   "source": [
    "#### Assignment 1"
   ]
  },
  {
   "cell_type": "code",
   "execution_count": 1,
   "metadata": {},
   "outputs": [
    {
     "name": "stdout",
     "output_type": "stream",
     "text": [
      "{1: 1, 2: 4, 3: 9, 4: 16, 5: 25, 6: 36, 7: 49, 8: 64, 9: 81, 10: 100}\n"
     ]
    }
   ],
   "source": [
    "dict1 = {num: num**2 for num in range(1, 11)}\n",
    "print(dict1)"
   ]
  },
  {
   "cell_type": "markdown",
   "id": "7f79bc51",
   "metadata": {},
   "source": [
    "#### Assignment 2"
   ]
  },
  {
   "cell_type": "code",
   "execution_count": 2,
   "id": "0f4da62e",
   "metadata": {},
   "outputs": [
    {
     "name": "stdout",
     "output_type": "stream",
     "text": [
      "25\n",
      "dict_keys([1, 2, 3, 4, 5, 6, 7, 8, 9, 10])\n"
     ]
    }
   ],
   "source": [
    "print(dict1[5])\n",
    "print(dict1.keys())"
   ]
  },
  {
   "cell_type": "markdown",
   "id": "aeefaaac",
   "metadata": {},
   "source": [
    "#### Assignment 3"
   ]
  },
  {
   "cell_type": "code",
   "execution_count": 3,
   "id": "1e8011ab",
   "metadata": {},
   "outputs": [
    {
     "name": "stdout",
     "output_type": "stream",
     "text": [
      "{2: 4, 3: 9, 4: 16, 5: 25, 6: 36, 7: 49, 8: 64, 9: 81, 10: 100, 11: 121}\n"
     ]
    }
   ],
   "source": [
    "dict1[11]= 121\n",
    "del dict1[1]\n",
    "print(dict1)"
   ]
  },
  {
   "cell_type": "markdown",
   "id": "d0783bac",
   "metadata": {},
   "source": [
    "#### Assignment 4"
   ]
  },
  {
   "cell_type": "code",
   "execution_count": 4,
   "id": "2a441cb4",
   "metadata": {},
   "outputs": [
    {
     "name": "stdout",
     "output_type": "stream",
     "text": [
      "2: 4\n",
      "3: 9\n",
      "4: 16\n",
      "5: 25\n",
      "6: 36\n",
      "7: 49\n",
      "8: 64\n",
      "9: 81\n",
      "10: 100\n",
      "11: 121\n"
     ]
    }
   ],
   "source": [
    "for key, value in dict1.items():\n",
    "    print(f\"{key}: {value}\")"
   ]
  },
  {
   "cell_type": "markdown",
   "id": "67973ff5",
   "metadata": {},
   "source": [
    "#### Assignment 5"
   ]
  },
  {
   "cell_type": "code",
   "execution_count": 7,
   "id": "05cbd5b9",
   "metadata": {},
   "outputs": [
    {
     "name": "stdout",
     "output_type": "stream",
     "text": [
      "{1: 1, 2: 8, 3: 27, 4: 64, 5: 125, 6: 216, 7: 343, 8: 512, 9: 729, 10: 1000}\n"
     ]
    }
   ],
   "source": [
    "dict2 = {num: num**3 for num in range(1, 11)}\n",
    "print(dict2)"
   ]
  },
  {
   "cell_type": "markdown",
   "id": "0312ab82",
   "metadata": {},
   "source": [
    "#### Assignment 6"
   ]
  },
  {
   "cell_type": "code",
   "execution_count": 8,
   "id": "b89c3aee",
   "metadata": {},
   "outputs": [
    {
     "name": "stdout",
     "output_type": "stream",
     "text": [
      "{1: 1, 2: 4, 3: 9, 4: 16, 5: 25, 6: 36, 7: 49, 8: 64, 9: 81, 10: 100}\n"
     ]
    }
   ],
   "source": [
    "d1 = {num: num**2 for num in range(1, 6)}\n",
    "d2 = {num: num**2 for num in range(6, 11)}\n",
    "d1.update(d2)\n",
    "print(d1)"
   ]
  },
  {
   "cell_type": "markdown",
   "id": "39bd290c",
   "metadata": {},
   "source": [
    "#### Assignment 7"
   ]
  },
  {
   "cell_type": "code",
   "execution_count": 9,
   "id": "c0d4e991",
   "metadata": {},
   "outputs": [
    {
     "name": "stdout",
     "output_type": "stream",
     "text": [
      "{'name': 'Taneesha', 'age': 24, 'grades': {'maths': 96, 'science': 90, 'english': 85}}\n"
     ]
    }
   ],
   "source": [
    "student = {\n",
    "    'name': \"Taneesha\",\n",
    "    'age': 24,\n",
    "    'grades': {\n",
    "        'maths': 96,\n",
    "        'science': 90,\n",
    "        'english': 85\n",
    "    }\n",
    "}\n",
    "print(student)"
   ]
  },
  {
   "cell_type": "markdown",
   "id": "974e573e",
   "metadata": {},
   "source": [
    "#### Assignment 8"
   ]
  },
  {
   "cell_type": "code",
   "execution_count": 10,
   "id": "effc2fa3",
   "metadata": {},
   "outputs": [
    {
     "name": "stdout",
     "output_type": "stream",
     "text": [
      "{1: [1, 2, 3, 4, 5], 2: [2, 4, 6, 8, 10], 3: [3, 6, 9, 12, 15], 4: [4, 8, 12, 16, 20], 5: [5, 10, 15, 20, 25]}\n"
     ]
    }
   ],
   "source": [
    "multiples = {i: [i*j for j in range(1, 6)] for i in range(1, 6)}\n",
    "print(multiples)"
   ]
  },
  {
   "cell_type": "markdown",
   "id": "c8da5efe",
   "metadata": {},
   "source": [
    "#### Assignment 9"
   ]
  },
  {
   "cell_type": "code",
   "execution_count": 11,
   "id": "d8c699fd",
   "metadata": {},
   "outputs": [
    {
     "name": "stdout",
     "output_type": "stream",
     "text": [
      "{1: (1, 1), 2: (2, 4), 3: (3, 9), 4: (4, 16), 5: (5, 25)}\n"
     ]
    }
   ],
   "source": [
    "squares = {i: (i, i**2) for i in range(1, 6)}\n",
    "print(squares)"
   ]
  },
  {
   "cell_type": "markdown",
   "id": "0271b1aa",
   "metadata": {},
   "source": [
    "#### Assignment 10"
   ]
  },
  {
   "cell_type": "code",
   "execution_count": 12,
   "id": "557d0ca0",
   "metadata": {},
   "outputs": [
    {
     "name": "stdout",
     "output_type": "stream",
     "text": [
      "[(1, 1), (2, 4), (3, 9), (4, 16), (5, 25)]\n"
     ]
    }
   ],
   "source": [
    "dct = {i: i**2 for i in range(1, 6)}\n",
    "lst_tuples = list(dct.items())\n",
    "print(lst_tuples)"
   ]
  },
  {
   "cell_type": "markdown",
   "id": "fc6f28c6",
   "metadata": {},
   "source": [
    "#### Assignment 11"
   ]
  },
  {
   "cell_type": "code",
   "execution_count": 14,
   "id": "839677de",
   "metadata": {},
   "outputs": [
    {
     "name": "stdout",
     "output_type": "stream",
     "text": [
      "{2: 4, 4: 16, 6: 36, 8: 64, 10: 100}\n"
     ]
    }
   ],
   "source": [
    "dct = {num: num**2 for num in range(1, 11)}\n",
    "even_dct = {key: value for key, value in dct.items() if key%2 == 0}\n",
    "print(even_dct)"
   ]
  },
  {
   "cell_type": "markdown",
   "id": "65c65023",
   "metadata": {},
   "source": [
    "#### Assignment 12"
   ]
  },
  {
   "cell_type": "code",
   "execution_count": 15,
   "id": "ec381287",
   "metadata": {},
   "outputs": [
    {
     "name": "stdout",
     "output_type": "stream",
     "text": [
      "{1: 1, 2: 4, 3: 9, 4: 16, 5: 25}\n",
      "{1: 1, 4: 2, 9: 3, 16: 4, 25: 5}\n"
     ]
    }
   ],
   "source": [
    "dct = {num: num**2 for num in range(1, 6)}\n",
    "print(dct)\n",
    "swapped_dct = {value: key for key, value in dct.items()}\n",
    "print(swapped_dct)"
   ]
  },
  {
   "cell_type": "markdown",
   "id": "54740aea",
   "metadata": {},
   "source": [
    "#### Assignment 13"
   ]
  },
  {
   "cell_type": "code",
   "execution_count": 16,
   "id": "70313535",
   "metadata": {},
   "outputs": [
    {
     "name": "stdout",
     "output_type": "stream",
     "text": [
      "defaultdict(<class 'list'>, {'a': [1, 3], 'b': [2]})\n"
     ]
    }
   ],
   "source": [
    "from collections import defaultdict\n",
    "\n",
    "default_dict = defaultdict(list)\n",
    "default_dict['a'].append(1)\n",
    "default_dict['b'].append(2)\n",
    "default_dict['a'].append(3)\n",
    "print(default_dict)"
   ]
  },
  {
   "cell_type": "markdown",
   "id": "ae4954b8",
   "metadata": {},
   "source": [
    "#### Assignment 14"
   ]
  },
  {
   "cell_type": "code",
   "execution_count": 17,
   "id": "dc0fd0a4",
   "metadata": {},
   "outputs": [
    {
     "name": "stdout",
     "output_type": "stream",
     "text": [
      "{'H': 1, 'e': 1, 'l': 2, 'o': 1}\n"
     ]
    }
   ],
   "source": [
    "def count_char(string):\n",
    "    count = {}\n",
    "    for char in string:\n",
    "        if char in count.keys():\n",
    "            count[char]+=1\n",
    "        else:\n",
    "            count[char]=1\n",
    "    return(count)\n",
    "\n",
    "count = count_char(\"Hello\")\n",
    "print(count)"
   ]
  },
  {
   "cell_type": "markdown",
   "id": "4e7905e9",
   "metadata": {},
   "source": [
    "#### Assignment 15"
   ]
  },
  {
   "cell_type": "code",
   "execution_count": 19,
   "id": "e4579227",
   "metadata": {},
   "outputs": [
    {
     "name": "stdout",
     "output_type": "stream",
     "text": [
      "{\"title\": \"Madol Duwa\", \"author\": \"Martin Wickramasinghe\", \"year\": 1940, \"genre\": \"Novel\"}\n"
     ]
    }
   ],
   "source": [
    "import json\n",
    "\n",
    "book = {\n",
    "    'title': 'Madol Duwa',\n",
    "    'author': 'Martin Wickramasinghe',\n",
    "    'year': 1940,\n",
    "    'genre': 'Novel'\n",
    "}\n",
    "\n",
    "json_book = json.dumps(book)\n",
    "print(json_book)"
   ]
  }
 ],
 "metadata": {
  "kernelspec": {
   "display_name": "Python 3",
   "language": "python",
   "name": "python3"
  },
  "language_info": {
   "codemirror_mode": {
    "name": "ipython",
    "version": 3
   },
   "file_extension": ".py",
   "mimetype": "text/x-python",
   "name": "python",
   "nbconvert_exporter": "python",
   "pygments_lexer": "ipython3",
   "version": "3.10.15"
  }
 },
 "nbformat": 4,
 "nbformat_minor": 5
}
